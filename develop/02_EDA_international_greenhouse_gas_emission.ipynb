{
 "cells": [
  {
   "cell_type": "code",
   "execution_count": 1,
   "metadata": {},
   "outputs": [],
   "source": [
    "import os\n",
    "import pandas as pd\n",
    "from zipfile import ZipFile\n",
    "import plotly.express as px\n",
    "\n",
    "from src.config.general import PATH_DATA_RAW"
   ]
  },
  {
   "cell_type": "code",
   "execution_count": 2,
   "metadata": {},
   "outputs": [],
   "source": [
    "path_zip = os.path.join(PATH_DATA_RAW, 'International Greenhouse Gas Emissions.zip')\n",
    "\n",
    "zip_file = ZipFile(path_zip)\n",
    "dfs = {text_file.filename: pd.read_csv(zip_file.open(text_file.filename))\n",
    "       for text_file in zip_file.infolist()\n",
    "       if text_file.filename.endswith('.csv')}"
   ]
  },
  {
   "cell_type": "code",
   "execution_count": 3,
   "metadata": {},
   "outputs": [
    {
     "data": {
      "text/plain": [
       "dict_keys(['greenhouse_gas_inventory_data_data.csv'])"
      ]
     },
     "execution_count": 3,
     "metadata": {},
     "output_type": "execute_result"
    }
   ],
   "source": [
    "dfs.keys()"
   ]
  },
  {
   "cell_type": "code",
   "execution_count": 24,
   "metadata": {},
   "outputs": [],
   "source": [
    "emissions = dfs['greenhouse_gas_inventory_data_data.csv'].copy()"
   ]
  },
  {
   "cell_type": "code",
   "execution_count": 25,
   "metadata": {},
   "outputs": [
    {
     "data": {
      "text/plain": [
       "(8406, 4)"
      ]
     },
     "execution_count": 25,
     "metadata": {},
     "output_type": "execute_result"
    }
   ],
   "source": [
    "emissions.shape"
   ]
  },
  {
   "cell_type": "code",
   "execution_count": 26,
   "metadata": {},
   "outputs": [
    {
     "data": {
      "text/html": [
       "<div>\n",
       "<style scoped>\n",
       "    .dataframe tbody tr th:only-of-type {\n",
       "        vertical-align: middle;\n",
       "    }\n",
       "\n",
       "    .dataframe tbody tr th {\n",
       "        vertical-align: top;\n",
       "    }\n",
       "\n",
       "    .dataframe thead th {\n",
       "        text-align: right;\n",
       "    }\n",
       "</style>\n",
       "<table border=\"1\" class=\"dataframe\">\n",
       "  <thead>\n",
       "    <tr style=\"text-align: right;\">\n",
       "      <th></th>\n",
       "      <th>country_or_area</th>\n",
       "      <th>year</th>\n",
       "      <th>value</th>\n",
       "      <th>category</th>\n",
       "    </tr>\n",
       "  </thead>\n",
       "  <tbody>\n",
       "    <tr>\n",
       "      <th>0</th>\n",
       "      <td>Australia</td>\n",
       "      <td>2014</td>\n",
       "      <td>393126.946994</td>\n",
       "      <td>carbon_dioxide_co2_emissions_without_land_use_...</td>\n",
       "    </tr>\n",
       "    <tr>\n",
       "      <th>1</th>\n",
       "      <td>Australia</td>\n",
       "      <td>2013</td>\n",
       "      <td>396913.936530</td>\n",
       "      <td>carbon_dioxide_co2_emissions_without_land_use_...</td>\n",
       "    </tr>\n",
       "  </tbody>\n",
       "</table>\n",
       "</div>"
      ],
      "text/plain": [
       "  country_or_area  year          value  \\\n",
       "0       Australia  2014  393126.946994   \n",
       "1       Australia  2013  396913.936530   \n",
       "\n",
       "                                            category  \n",
       "0  carbon_dioxide_co2_emissions_without_land_use_...  \n",
       "1  carbon_dioxide_co2_emissions_without_land_use_...  "
      ]
     },
     "execution_count": 26,
     "metadata": {},
     "output_type": "execute_result"
    }
   ],
   "source": [
    "emissions.head(2)"
   ]
  },
  {
   "cell_type": "code",
   "execution_count": 29,
   "metadata": {},
   "outputs": [
    {
     "data": {
      "text/html": [
       "<div>\n",
       "<style scoped>\n",
       "    .dataframe tbody tr th:only-of-type {\n",
       "        vertical-align: middle;\n",
       "    }\n",
       "\n",
       "    .dataframe tbody tr th {\n",
       "        vertical-align: top;\n",
       "    }\n",
       "\n",
       "    .dataframe thead th {\n",
       "        text-align: right;\n",
       "    }\n",
       "</style>\n",
       "<table border=\"1\" class=\"dataframe\">\n",
       "  <thead>\n",
       "    <tr style=\"text-align: right;\">\n",
       "      <th></th>\n",
       "      <th>index</th>\n",
       "      <th>N</th>\n",
       "    </tr>\n",
       "  </thead>\n",
       "  <tbody>\n",
       "    <tr>\n",
       "      <th>0</th>\n",
       "      <td>carbon_dioxide_co2_emissions_without_land_use_...</td>\n",
       "      <td>1074</td>\n",
       "    </tr>\n",
       "    <tr>\n",
       "      <th>1</th>\n",
       "      <td>greenhouse_gas_ghgs_emissions_without_land_use...</td>\n",
       "      <td>1074</td>\n",
       "    </tr>\n",
       "    <tr>\n",
       "      <th>2</th>\n",
       "      <td>methane_ch4_emissions_without_land_use_land_us...</td>\n",
       "      <td>1074</td>\n",
       "    </tr>\n",
       "    <tr>\n",
       "      <th>3</th>\n",
       "      <td>nitrous_oxide_n2o_emissions_without_land_use_l...</td>\n",
       "      <td>1074</td>\n",
       "    </tr>\n",
       "    <tr>\n",
       "      <th>4</th>\n",
       "      <td>sulphur_hexafluoride_sf6_emissions_in_kilotonn...</td>\n",
       "      <td>1032</td>\n",
       "    </tr>\n",
       "    <tr>\n",
       "      <th>5</th>\n",
       "      <td>hydrofluorocarbons_hfcs_emissions_in_kilotonne...</td>\n",
       "      <td>975</td>\n",
       "    </tr>\n",
       "    <tr>\n",
       "      <th>6</th>\n",
       "      <td>greenhouse_gas_ghgs_emissions_including_indire...</td>\n",
       "      <td>949</td>\n",
       "    </tr>\n",
       "    <tr>\n",
       "      <th>7</th>\n",
       "      <td>perfluorocarbons_pfcs_emissions_in_kilotonne_c...</td>\n",
       "      <td>831</td>\n",
       "    </tr>\n",
       "    <tr>\n",
       "      <th>8</th>\n",
       "      <td>nitrogen_trifluoride_nf3_emissions_in_kilotonn...</td>\n",
       "      <td>248</td>\n",
       "    </tr>\n",
       "    <tr>\n",
       "      <th>9</th>\n",
       "      <td>unspecified_mix_of_hydrofluorocarbons_hfcs_and...</td>\n",
       "      <td>75</td>\n",
       "    </tr>\n",
       "  </tbody>\n",
       "</table>\n",
       "</div>"
      ],
      "text/plain": [
       "                                               index     N\n",
       "0  carbon_dioxide_co2_emissions_without_land_use_...  1074\n",
       "1  greenhouse_gas_ghgs_emissions_without_land_use...  1074\n",
       "2  methane_ch4_emissions_without_land_use_land_us...  1074\n",
       "3  nitrous_oxide_n2o_emissions_without_land_use_l...  1074\n",
       "4  sulphur_hexafluoride_sf6_emissions_in_kilotonn...  1032\n",
       "5  hydrofluorocarbons_hfcs_emissions_in_kilotonne...   975\n",
       "6  greenhouse_gas_ghgs_emissions_including_indire...   949\n",
       "7  perfluorocarbons_pfcs_emissions_in_kilotonne_c...   831\n",
       "8  nitrogen_trifluoride_nf3_emissions_in_kilotonn...   248\n",
       "9  unspecified_mix_of_hydrofluorocarbons_hfcs_and...    75"
      ]
     },
     "execution_count": 29,
     "metadata": {},
     "output_type": "execute_result"
    }
   ],
   "source": [
    "emissions['category'].value_counts().to_frame('N').reset_index()"
   ]
  },
  {
   "cell_type": "code",
   "execution_count": 30,
   "metadata": {},
   "outputs": [
    {
     "data": {
      "text/plain": [
       "array(['carbon_dioxide_co2_emissions_without_land_use_land_use_change_and_forestry_lulucf_in_kilotonne_co2_equivalent',\n",
       "       'greenhouse_gas_ghgs_emissions_including_indirect_co2_without_lulucf_in_kilotonne_co2_equivalent',\n",
       "       'greenhouse_gas_ghgs_emissions_without_land_use_land_use_change_and_forestry_lulucf_in_kilotonne_co2_equivalent',\n",
       "       'hydrofluorocarbons_hfcs_emissions_in_kilotonne_co2_equivalent',\n",
       "       'methane_ch4_emissions_without_land_use_land_use_change_and_forestry_lulucf_in_kilotonne_co2_equivalent',\n",
       "       'nitrogen_trifluoride_nf3_emissions_in_kilotonne_co2_equivalent',\n",
       "       'nitrous_oxide_n2o_emissions_without_land_use_land_use_change_and_forestry_lulucf_in_kilotonne_co2_equivalent',\n",
       "       'perfluorocarbons_pfcs_emissions_in_kilotonne_co2_equivalent',\n",
       "       'sulphur_hexafluoride_sf6_emissions_in_kilotonne_co2_equivalent',\n",
       "       'unspecified_mix_of_hydrofluorocarbons_hfcs_and_perfluorocarbons_pfcs_emissions_in_kilotonne_co2_equivalent'],\n",
       "      dtype=object)"
      ]
     },
     "execution_count": 30,
     "metadata": {},
     "output_type": "execute_result"
    }
   ],
   "source": [
    "emissions['category'].unique()"
   ]
  },
  {
   "cell_type": "code",
   "execution_count": 35,
   "metadata": {},
   "outputs": [],
   "source": [
    "emissions['category_short'] = emissions['category'].str.split('_emissions_').str[0]"
   ]
  },
  {
   "cell_type": "code",
   "execution_count": 36,
   "metadata": {},
   "outputs": [
    {
     "data": {
      "text/html": [
       "<div>\n",
       "<style scoped>\n",
       "    .dataframe tbody tr th:only-of-type {\n",
       "        vertical-align: middle;\n",
       "    }\n",
       "\n",
       "    .dataframe tbody tr th {\n",
       "        vertical-align: top;\n",
       "    }\n",
       "\n",
       "    .dataframe thead th {\n",
       "        text-align: right;\n",
       "    }\n",
       "</style>\n",
       "<table border=\"1\" class=\"dataframe\">\n",
       "  <thead>\n",
       "    <tr style=\"text-align: right;\">\n",
       "      <th></th>\n",
       "      <th>index</th>\n",
       "      <th>N</th>\n",
       "    </tr>\n",
       "  </thead>\n",
       "  <tbody>\n",
       "    <tr>\n",
       "      <th>0</th>\n",
       "      <td>greenhouse_gas_ghgs</td>\n",
       "      <td>2023</td>\n",
       "    </tr>\n",
       "    <tr>\n",
       "      <th>1</th>\n",
       "      <td>carbon_dioxide_co2</td>\n",
       "      <td>1074</td>\n",
       "    </tr>\n",
       "    <tr>\n",
       "      <th>2</th>\n",
       "      <td>methane_ch4</td>\n",
       "      <td>1074</td>\n",
       "    </tr>\n",
       "    <tr>\n",
       "      <th>3</th>\n",
       "      <td>nitrous_oxide_n2o</td>\n",
       "      <td>1074</td>\n",
       "    </tr>\n",
       "    <tr>\n",
       "      <th>4</th>\n",
       "      <td>sulphur_hexafluoride_sf6</td>\n",
       "      <td>1032</td>\n",
       "    </tr>\n",
       "    <tr>\n",
       "      <th>5</th>\n",
       "      <td>hydrofluorocarbons_hfcs</td>\n",
       "      <td>975</td>\n",
       "    </tr>\n",
       "    <tr>\n",
       "      <th>6</th>\n",
       "      <td>perfluorocarbons_pfcs</td>\n",
       "      <td>831</td>\n",
       "    </tr>\n",
       "    <tr>\n",
       "      <th>7</th>\n",
       "      <td>nitrogen_trifluoride_nf3</td>\n",
       "      <td>248</td>\n",
       "    </tr>\n",
       "    <tr>\n",
       "      <th>8</th>\n",
       "      <td>unspecified_mix_of_hydrofluorocarbons_hfcs_and...</td>\n",
       "      <td>75</td>\n",
       "    </tr>\n",
       "  </tbody>\n",
       "</table>\n",
       "</div>"
      ],
      "text/plain": [
       "                                               index     N\n",
       "0                                greenhouse_gas_ghgs  2023\n",
       "1                                 carbon_dioxide_co2  1074\n",
       "2                                        methane_ch4  1074\n",
       "3                                  nitrous_oxide_n2o  1074\n",
       "4                           sulphur_hexafluoride_sf6  1032\n",
       "5                            hydrofluorocarbons_hfcs   975\n",
       "6                              perfluorocarbons_pfcs   831\n",
       "7                           nitrogen_trifluoride_nf3   248\n",
       "8  unspecified_mix_of_hydrofluorocarbons_hfcs_and...    75"
      ]
     },
     "execution_count": 36,
     "metadata": {},
     "output_type": "execute_result"
    }
   ],
   "source": [
    "emissions['category_short'].value_counts().to_frame('N').reset_index()"
   ]
  },
  {
   "cell_type": "code",
   "execution_count": 57,
   "metadata": {},
   "outputs": [],
   "source": [
    "df_grouped_by_year = emissions. \\\n",
    "    groupby(['year'])[\"value\"].agg('sum').reset_index()"
   ]
  },
  {
   "cell_type": "code",
   "execution_count": 59,
   "metadata": {},
   "outputs": [
    {
     "data": {
      "application/vnd.plotly.v1+json": {
       "config": {
        "plotlyServerURL": "https://plot.ly"
       },
       "data": [
        {
         "hovertemplate": "variable=value<br>year=%{x}<br>_value=%{y}<extra></extra>",
         "legendgroup": "value",
         "line": {
          "color": "#636efa",
          "dash": "solid"
         },
         "marker": {
          "symbol": "circle"
         },
         "mode": "lines",
         "name": "value",
         "orientation": "v",
         "showlegend": true,
         "type": "scatter",
         "x": [
          1990,
          1991,
          1992,
          1993,
          1994,
          1995,
          1996,
          1997,
          1998,
          1999,
          2000,
          2001,
          2002,
          2003,
          2004,
          2005,
          2006,
          2007,
          2008,
          2009,
          2010,
          2011,
          2012,
          2013,
          2014
         ],
         "xaxis": "x",
         "y": [
          74545558.42086102,
          72815313.40147898,
          70426432.31622763,
          69340706.73359288,
          68458226.54184471,
          68865628.70158504,
          69913121.96130958,
          69279485.84465486,
          68945745.00419277,
          68474724.02791576,
          69207600.65318108,
          69266302.30296364,
          69257481.6603152,
          70244252.5677161,
          70919744.44608079,
          70921147.50087038,
          70963459.2083649,
          71242747.10260811,
          69749460.14229006,
          65376909.40099321,
          67297427.81650814,
          66504699.90261088,
          65745037.33324521,
          65554642.989073955,
          64513834.68306796
         ],
         "yaxis": "y"
        }
       ],
       "layout": {
        "legend": {
         "title": {
          "text": "variable"
         },
         "tracegroupgap": 0
        },
        "template": {
         "data": {
          "bar": [
           {
            "error_x": {
             "color": "#2a3f5f"
            },
            "error_y": {
             "color": "#2a3f5f"
            },
            "marker": {
             "line": {
              "color": "#E5ECF6",
              "width": 0.5
             },
             "pattern": {
              "fillmode": "overlay",
              "size": 10,
              "solidity": 0.2
             }
            },
            "type": "bar"
           }
          ],
          "barpolar": [
           {
            "marker": {
             "line": {
              "color": "#E5ECF6",
              "width": 0.5
             },
             "pattern": {
              "fillmode": "overlay",
              "size": 10,
              "solidity": 0.2
             }
            },
            "type": "barpolar"
           }
          ],
          "carpet": [
           {
            "aaxis": {
             "endlinecolor": "#2a3f5f",
             "gridcolor": "white",
             "linecolor": "white",
             "minorgridcolor": "white",
             "startlinecolor": "#2a3f5f"
            },
            "baxis": {
             "endlinecolor": "#2a3f5f",
             "gridcolor": "white",
             "linecolor": "white",
             "minorgridcolor": "white",
             "startlinecolor": "#2a3f5f"
            },
            "type": "carpet"
           }
          ],
          "choropleth": [
           {
            "colorbar": {
             "outlinewidth": 0,
             "ticks": ""
            },
            "type": "choropleth"
           }
          ],
          "contour": [
           {
            "colorbar": {
             "outlinewidth": 0,
             "ticks": ""
            },
            "colorscale": [
             [
              0,
              "#0d0887"
             ],
             [
              0.1111111111111111,
              "#46039f"
             ],
             [
              0.2222222222222222,
              "#7201a8"
             ],
             [
              0.3333333333333333,
              "#9c179e"
             ],
             [
              0.4444444444444444,
              "#bd3786"
             ],
             [
              0.5555555555555556,
              "#d8576b"
             ],
             [
              0.6666666666666666,
              "#ed7953"
             ],
             [
              0.7777777777777778,
              "#fb9f3a"
             ],
             [
              0.8888888888888888,
              "#fdca26"
             ],
             [
              1,
              "#f0f921"
             ]
            ],
            "type": "contour"
           }
          ],
          "contourcarpet": [
           {
            "colorbar": {
             "outlinewidth": 0,
             "ticks": ""
            },
            "type": "contourcarpet"
           }
          ],
          "heatmap": [
           {
            "colorbar": {
             "outlinewidth": 0,
             "ticks": ""
            },
            "colorscale": [
             [
              0,
              "#0d0887"
             ],
             [
              0.1111111111111111,
              "#46039f"
             ],
             [
              0.2222222222222222,
              "#7201a8"
             ],
             [
              0.3333333333333333,
              "#9c179e"
             ],
             [
              0.4444444444444444,
              "#bd3786"
             ],
             [
              0.5555555555555556,
              "#d8576b"
             ],
             [
              0.6666666666666666,
              "#ed7953"
             ],
             [
              0.7777777777777778,
              "#fb9f3a"
             ],
             [
              0.8888888888888888,
              "#fdca26"
             ],
             [
              1,
              "#f0f921"
             ]
            ],
            "type": "heatmap"
           }
          ],
          "heatmapgl": [
           {
            "colorbar": {
             "outlinewidth": 0,
             "ticks": ""
            },
            "colorscale": [
             [
              0,
              "#0d0887"
             ],
             [
              0.1111111111111111,
              "#46039f"
             ],
             [
              0.2222222222222222,
              "#7201a8"
             ],
             [
              0.3333333333333333,
              "#9c179e"
             ],
             [
              0.4444444444444444,
              "#bd3786"
             ],
             [
              0.5555555555555556,
              "#d8576b"
             ],
             [
              0.6666666666666666,
              "#ed7953"
             ],
             [
              0.7777777777777778,
              "#fb9f3a"
             ],
             [
              0.8888888888888888,
              "#fdca26"
             ],
             [
              1,
              "#f0f921"
             ]
            ],
            "type": "heatmapgl"
           }
          ],
          "histogram": [
           {
            "marker": {
             "pattern": {
              "fillmode": "overlay",
              "size": 10,
              "solidity": 0.2
             }
            },
            "type": "histogram"
           }
          ],
          "histogram2d": [
           {
            "colorbar": {
             "outlinewidth": 0,
             "ticks": ""
            },
            "colorscale": [
             [
              0,
              "#0d0887"
             ],
             [
              0.1111111111111111,
              "#46039f"
             ],
             [
              0.2222222222222222,
              "#7201a8"
             ],
             [
              0.3333333333333333,
              "#9c179e"
             ],
             [
              0.4444444444444444,
              "#bd3786"
             ],
             [
              0.5555555555555556,
              "#d8576b"
             ],
             [
              0.6666666666666666,
              "#ed7953"
             ],
             [
              0.7777777777777778,
              "#fb9f3a"
             ],
             [
              0.8888888888888888,
              "#fdca26"
             ],
             [
              1,
              "#f0f921"
             ]
            ],
            "type": "histogram2d"
           }
          ],
          "histogram2dcontour": [
           {
            "colorbar": {
             "outlinewidth": 0,
             "ticks": ""
            },
            "colorscale": [
             [
              0,
              "#0d0887"
             ],
             [
              0.1111111111111111,
              "#46039f"
             ],
             [
              0.2222222222222222,
              "#7201a8"
             ],
             [
              0.3333333333333333,
              "#9c179e"
             ],
             [
              0.4444444444444444,
              "#bd3786"
             ],
             [
              0.5555555555555556,
              "#d8576b"
             ],
             [
              0.6666666666666666,
              "#ed7953"
             ],
             [
              0.7777777777777778,
              "#fb9f3a"
             ],
             [
              0.8888888888888888,
              "#fdca26"
             ],
             [
              1,
              "#f0f921"
             ]
            ],
            "type": "histogram2dcontour"
           }
          ],
          "mesh3d": [
           {
            "colorbar": {
             "outlinewidth": 0,
             "ticks": ""
            },
            "type": "mesh3d"
           }
          ],
          "parcoords": [
           {
            "line": {
             "colorbar": {
              "outlinewidth": 0,
              "ticks": ""
             }
            },
            "type": "parcoords"
           }
          ],
          "pie": [
           {
            "automargin": true,
            "type": "pie"
           }
          ],
          "scatter": [
           {
            "marker": {
             "colorbar": {
              "outlinewidth": 0,
              "ticks": ""
             }
            },
            "type": "scatter"
           }
          ],
          "scatter3d": [
           {
            "line": {
             "colorbar": {
              "outlinewidth": 0,
              "ticks": ""
             }
            },
            "marker": {
             "colorbar": {
              "outlinewidth": 0,
              "ticks": ""
             }
            },
            "type": "scatter3d"
           }
          ],
          "scattercarpet": [
           {
            "marker": {
             "colorbar": {
              "outlinewidth": 0,
              "ticks": ""
             }
            },
            "type": "scattercarpet"
           }
          ],
          "scattergeo": [
           {
            "marker": {
             "colorbar": {
              "outlinewidth": 0,
              "ticks": ""
             }
            },
            "type": "scattergeo"
           }
          ],
          "scattergl": [
           {
            "marker": {
             "colorbar": {
              "outlinewidth": 0,
              "ticks": ""
             }
            },
            "type": "scattergl"
           }
          ],
          "scattermapbox": [
           {
            "marker": {
             "colorbar": {
              "outlinewidth": 0,
              "ticks": ""
             }
            },
            "type": "scattermapbox"
           }
          ],
          "scatterpolar": [
           {
            "marker": {
             "colorbar": {
              "outlinewidth": 0,
              "ticks": ""
             }
            },
            "type": "scatterpolar"
           }
          ],
          "scatterpolargl": [
           {
            "marker": {
             "colorbar": {
              "outlinewidth": 0,
              "ticks": ""
             }
            },
            "type": "scatterpolargl"
           }
          ],
          "scatterternary": [
           {
            "marker": {
             "colorbar": {
              "outlinewidth": 0,
              "ticks": ""
             }
            },
            "type": "scatterternary"
           }
          ],
          "surface": [
           {
            "colorbar": {
             "outlinewidth": 0,
             "ticks": ""
            },
            "colorscale": [
             [
              0,
              "#0d0887"
             ],
             [
              0.1111111111111111,
              "#46039f"
             ],
             [
              0.2222222222222222,
              "#7201a8"
             ],
             [
              0.3333333333333333,
              "#9c179e"
             ],
             [
              0.4444444444444444,
              "#bd3786"
             ],
             [
              0.5555555555555556,
              "#d8576b"
             ],
             [
              0.6666666666666666,
              "#ed7953"
             ],
             [
              0.7777777777777778,
              "#fb9f3a"
             ],
             [
              0.8888888888888888,
              "#fdca26"
             ],
             [
              1,
              "#f0f921"
             ]
            ],
            "type": "surface"
           }
          ],
          "table": [
           {
            "cells": {
             "fill": {
              "color": "#EBF0F8"
             },
             "line": {
              "color": "white"
             }
            },
            "header": {
             "fill": {
              "color": "#C8D4E3"
             },
             "line": {
              "color": "white"
             }
            },
            "type": "table"
           }
          ]
         },
         "layout": {
          "annotationdefaults": {
           "arrowcolor": "#2a3f5f",
           "arrowhead": 0,
           "arrowwidth": 1
          },
          "autotypenumbers": "strict",
          "coloraxis": {
           "colorbar": {
            "outlinewidth": 0,
            "ticks": ""
           }
          },
          "colorscale": {
           "diverging": [
            [
             0,
             "#8e0152"
            ],
            [
             0.1,
             "#c51b7d"
            ],
            [
             0.2,
             "#de77ae"
            ],
            [
             0.3,
             "#f1b6da"
            ],
            [
             0.4,
             "#fde0ef"
            ],
            [
             0.5,
             "#f7f7f7"
            ],
            [
             0.6,
             "#e6f5d0"
            ],
            [
             0.7,
             "#b8e186"
            ],
            [
             0.8,
             "#7fbc41"
            ],
            [
             0.9,
             "#4d9221"
            ],
            [
             1,
             "#276419"
            ]
           ],
           "sequential": [
            [
             0,
             "#0d0887"
            ],
            [
             0.1111111111111111,
             "#46039f"
            ],
            [
             0.2222222222222222,
             "#7201a8"
            ],
            [
             0.3333333333333333,
             "#9c179e"
            ],
            [
             0.4444444444444444,
             "#bd3786"
            ],
            [
             0.5555555555555556,
             "#d8576b"
            ],
            [
             0.6666666666666666,
             "#ed7953"
            ],
            [
             0.7777777777777778,
             "#fb9f3a"
            ],
            [
             0.8888888888888888,
             "#fdca26"
            ],
            [
             1,
             "#f0f921"
            ]
           ],
           "sequentialminus": [
            [
             0,
             "#0d0887"
            ],
            [
             0.1111111111111111,
             "#46039f"
            ],
            [
             0.2222222222222222,
             "#7201a8"
            ],
            [
             0.3333333333333333,
             "#9c179e"
            ],
            [
             0.4444444444444444,
             "#bd3786"
            ],
            [
             0.5555555555555556,
             "#d8576b"
            ],
            [
             0.6666666666666666,
             "#ed7953"
            ],
            [
             0.7777777777777778,
             "#fb9f3a"
            ],
            [
             0.8888888888888888,
             "#fdca26"
            ],
            [
             1,
             "#f0f921"
            ]
           ]
          },
          "colorway": [
           "#636efa",
           "#EF553B",
           "#00cc96",
           "#ab63fa",
           "#FFA15A",
           "#19d3f3",
           "#FF6692",
           "#B6E880",
           "#FF97FF",
           "#FECB52"
          ],
          "font": {
           "color": "#2a3f5f"
          },
          "geo": {
           "bgcolor": "white",
           "lakecolor": "white",
           "landcolor": "#E5ECF6",
           "showlakes": true,
           "showland": true,
           "subunitcolor": "white"
          },
          "hoverlabel": {
           "align": "left"
          },
          "hovermode": "closest",
          "mapbox": {
           "style": "light"
          },
          "paper_bgcolor": "white",
          "plot_bgcolor": "#E5ECF6",
          "polar": {
           "angularaxis": {
            "gridcolor": "white",
            "linecolor": "white",
            "ticks": ""
           },
           "bgcolor": "#E5ECF6",
           "radialaxis": {
            "gridcolor": "white",
            "linecolor": "white",
            "ticks": ""
           }
          },
          "scene": {
           "xaxis": {
            "backgroundcolor": "#E5ECF6",
            "gridcolor": "white",
            "gridwidth": 2,
            "linecolor": "white",
            "showbackground": true,
            "ticks": "",
            "zerolinecolor": "white"
           },
           "yaxis": {
            "backgroundcolor": "#E5ECF6",
            "gridcolor": "white",
            "gridwidth": 2,
            "linecolor": "white",
            "showbackground": true,
            "ticks": "",
            "zerolinecolor": "white"
           },
           "zaxis": {
            "backgroundcolor": "#E5ECF6",
            "gridcolor": "white",
            "gridwidth": 2,
            "linecolor": "white",
            "showbackground": true,
            "ticks": "",
            "zerolinecolor": "white"
           }
          },
          "shapedefaults": {
           "line": {
            "color": "#2a3f5f"
           }
          },
          "ternary": {
           "aaxis": {
            "gridcolor": "white",
            "linecolor": "white",
            "ticks": ""
           },
           "baxis": {
            "gridcolor": "white",
            "linecolor": "white",
            "ticks": ""
           },
           "bgcolor": "#E5ECF6",
           "caxis": {
            "gridcolor": "white",
            "linecolor": "white",
            "ticks": ""
           }
          },
          "title": {
           "x": 0.05
          },
          "xaxis": {
           "automargin": true,
           "gridcolor": "white",
           "linecolor": "white",
           "ticks": "",
           "title": {
            "standoff": 15
           },
           "zerolinecolor": "white",
           "zerolinewidth": 2
          },
          "yaxis": {
           "automargin": true,
           "gridcolor": "white",
           "linecolor": "white",
           "ticks": "",
           "title": {
            "standoff": 15
           },
           "zerolinecolor": "white",
           "zerolinewidth": 2
          }
         }
        },
        "title": {
         "text": "CO2 Emission Evolution"
        },
        "xaxis": {
         "anchor": "y",
         "domain": [
          0,
          1
         ],
         "title": {
          "text": "year"
         }
        },
        "yaxis": {
         "anchor": "x",
         "domain": [
          0,
          1
         ],
         "title": {
          "text": "_value"
         }
        }
       }
      }
     },
     "metadata": {},
     "output_type": "display_data"
    }
   ],
   "source": [
    "fig = px.line(df_grouped_by_year, \n",
    "              x='year', \n",
    "              y=df_grouped_by_year.columns[1:],\n",
    "              title=\"CO2 Emission Evolution\")\n",
    "fig.show()"
   ]
  },
  {
   "cell_type": "code",
   "execution_count": 60,
   "metadata": {},
   "outputs": [],
   "source": [
    "df_grouped_by_category = emissions. \\\n",
    "    groupby(['year', 'category_short'])[\"value\"].agg('sum').reset_index(). \\\n",
    "    pivot(index='year', columns='category_short', values='value').reset_index()"
   ]
  },
  {
   "cell_type": "code",
   "execution_count": 62,
   "metadata": {},
   "outputs": [
    {
     "data": {
      "application/vnd.plotly.v1+json": {
       "config": {
        "plotlyServerURL": "https://plot.ly"
       },
       "data": [
        {
         "hovertemplate": "variable=carbon_dioxide_co2<br>year=%{x}<br>value=%{y}<extra></extra>",
         "legendgroup": "carbon_dioxide_co2",
         "line": {
          "color": "#636efa",
          "dash": "solid"
         },
         "marker": {
          "symbol": "circle"
         },
         "mode": "lines",
         "name": "carbon_dioxide_co2",
         "orientation": "v",
         "showlegend": true,
         "type": "scatter",
         "x": [
          1990,
          1991,
          1992,
          1993,
          1994,
          1995,
          1996,
          1997,
          1998,
          1999,
          2000,
          2001,
          2002,
          2003,
          2004,
          2005,
          2006,
          2007,
          2008,
          2009,
          2010,
          2011,
          2012,
          2013,
          2014
         ],
         "xaxis": "x",
         "y": [
          19581337.255157333,
          19186341.40888191,
          18571773.10995995,
          18331101.10644628,
          18145892.42142626,
          18259887.247307975,
          18619411.070383035,
          18467809.665333424,
          18423934.189973496,
          18430210.985309362,
          18708673.12984988,
          18775369.58084819,
          18803652.78121133,
          19134436.123235725,
          19310864.206450865,
          19352492.989355713,
          19369244.658625778,
          19440145.35026148,
          18967697.277596712,
          17580588.38304696,
          18199527.03099159,
          17913267.93985278,
          17654773.981210195,
          17582508.408777945,
          17209500.550120525
         ],
         "yaxis": "y"
        },
        {
         "hovertemplate": "variable=greenhouse_gas_ghgs<br>year=%{x}<br>value=%{y}<extra></extra>",
         "legendgroup": "greenhouse_gas_ghgs",
         "line": {
          "color": "#EF553B",
          "dash": "solid"
         },
         "marker": {
          "symbol": "circle"
         },
         "mode": "lines",
         "name": "greenhouse_gas_ghgs",
         "orientation": "v",
         "showlegend": true,
         "type": "scatter",
         "x": [
          1990,
          1991,
          1992,
          1993,
          1994,
          1995,
          1996,
          1997,
          1998,
          1999,
          2000,
          2001,
          2002,
          2003,
          2004,
          2005,
          2006,
          2007,
          2008,
          2009,
          2010,
          2011,
          2012,
          2013,
          2014
         ],
         "xaxis": "x",
         "y": [
          49304402.01721464,
          48152415.98156635,
          46563771.35525398,
          45851523.54082477,
          45262740.135231,
          45536669.899122946,
          46224730.92513458,
          45805785.91598651,
          45588322.69936893,
          45273431.12087446,
          45754203.14256867,
          45792490.83739016,
          45791857.943359144,
          46441481.848466694,
          46888365.06631824,
          46884565.69222518,
          46917376.90257871,
          47103306.23543395,
          46124071.90000565,
          43244135.67558071,
          44524522.78313937,
          44010708.90846622,
          43501464.83532375,
          43388406.824420616,
          42710425.28778417
         ],
         "yaxis": "y"
        },
        {
         "hovertemplate": "variable=hydrofluorocarbons_hfcs<br>year=%{x}<br>value=%{y}<extra></extra>",
         "legendgroup": "hydrofluorocarbons_hfcs",
         "line": {
          "color": "#00cc96",
          "dash": "solid"
         },
         "marker": {
          "symbol": "circle"
         },
         "mode": "lines",
         "name": "hydrofluorocarbons_hfcs",
         "orientation": "v",
         "showlegend": true,
         "type": "scatter",
         "x": [
          1990,
          1991,
          1992,
          1993,
          1994,
          1995,
          1996,
          1997,
          1998,
          1999,
          2000,
          2001,
          2002,
          2003,
          2004,
          2005,
          2006,
          2007,
          2008,
          2009,
          2010,
          2011,
          2012,
          2013,
          2014
         ],
         "xaxis": "x",
         "y": [
          158805.26829183972,
          153987.52430198248,
          158714.18706973596,
          154779.35227156163,
          169206.24557897882,
          201551.92856147536,
          221610.54022049758,
          251987.79727591673,
          277584.3961203852,
          260286.2225811481,
          270848.5285007318,
          261360.08963504777,
          267568.389618153,
          269408.44706500124,
          287956.08875702444,
          305224.76658004004,
          319144.05671214033,
          345487.8632639454,
          369473.4362697048,
          374770.86153006856,
          407806.41721536254,
          420021.67282486963,
          438664.2625863052,
          453782.41329505004,
          472861.18268140743
         ],
         "yaxis": "y"
        },
        {
         "hovertemplate": "variable=methane_ch4<br>year=%{x}<br>value=%{y}<extra></extra>",
         "legendgroup": "methane_ch4",
         "line": {
          "color": "#ab63fa",
          "dash": "solid"
         },
         "marker": {
          "symbol": "circle"
         },
         "mode": "lines",
         "name": "methane_ch4",
         "orientation": "v",
         "showlegend": true,
         "type": "scatter",
         "x": [
          1990,
          1991,
          1992,
          1993,
          1994,
          1995,
          1996,
          1997,
          1998,
          1999,
          2000,
          2001,
          2002,
          2003,
          2004,
          2005,
          2006,
          2007,
          2008,
          2009,
          2010,
          2011,
          2012,
          2013,
          2014
         ],
         "xaxis": "x",
         "y": [
          3745046.097873619,
          3634010.0133283893,
          3505710.2907796036,
          3404185.5025395714,
          3314308.114104693,
          3274318.704424892,
          3242040.135528159,
          3187988.744105062,
          3126880.491299328,
          3086476.713854731,
          3068301.0826512575,
          3066743.6258713393,
          3044597.8093967773,
          3066741.5038729487,
          3063473.603284579,
          3064061.3926758273,
          3056149.783287879,
          3051411.3598072445,
          3035081.958156775,
          2968151.510283071,
          2958962.906547497,
          2952669.968587565,
          2949792.510610155,
          2932934.2609015275,
          2927075.801148685
         ],
         "yaxis": "y"
        },
        {
         "hovertemplate": "variable=nitrogen_trifluoride_nf3<br>year=%{x}<br>value=%{y}<extra></extra>",
         "legendgroup": "nitrogen_trifluoride_nf3",
         "line": {
          "color": "#FFA15A",
          "dash": "solid"
         },
         "marker": {
          "symbol": "circle"
         },
         "mode": "lines",
         "name": "nitrogen_trifluoride_nf3",
         "orientation": "v",
         "showlegend": true,
         "type": "scatter",
         "x": [
          1990,
          1991,
          1992,
          1993,
          1994,
          1995,
          1996,
          1997,
          1998,
          1999,
          2000,
          2001,
          2002,
          2003,
          2004,
          2005,
          2006,
          2007,
          2008,
          2009,
          2010,
          2011,
          2012,
          2013,
          2014
         ],
         "xaxis": "x",
         "y": [
          128.68658206182,
          132.098590198568,
          135.85889129312,
          162.946566584292,
          207.91046889101602,
          373.294498692608,
          425.819593756192,
          477.569730909292,
          526.322273106936,
          525.9605002029721,
          623.614596478168,
          589.061017759868,
          1096.0711555140601,
          1125.751794823804,
          1183.69861576102,
          2058.0679991109364,
          2077.0179626421805,
          2111.2355474030282,
          2066.992034065076,
          1798.469369922108,
          2179.12843386032,
          2491.0436591683483,
          2074.333311536492,
          2098.531341460766,
          1470.387623316824
         ],
         "yaxis": "y"
        },
        {
         "hovertemplate": "variable=nitrous_oxide_n2o<br>year=%{x}<br>value=%{y}<extra></extra>",
         "legendgroup": "nitrous_oxide_n2o",
         "line": {
          "color": "#19d3f3",
          "dash": "solid"
         },
         "marker": {
          "symbol": "circle"
         },
         "mode": "lines",
         "name": "nitrous_oxide_n2o",
         "orientation": "v",
         "showlegend": true,
         "type": "scatter",
         "x": [
          1990,
          1991,
          1992,
          1993,
          1994,
          1995,
          1996,
          1997,
          1998,
          1999,
          2000,
          2001,
          2002,
          2003,
          2004,
          2005,
          2006,
          2007,
          2008,
          2009,
          2010,
          2011,
          2012,
          2013,
          2014
         ],
         "xaxis": "x",
         "y": [
          1556359.5134100295,
          1494172.4242131908,
          1445218.6368264556,
          1417992.0278778318,
          1386908.6492243097,
          1407812.7133384976,
          1422482.934087128,
          1393821.978274365,
          1368095.6328968233,
          1279029.591922318,
          1275261.4816884112,
          1257862.3719168885,
          1237224.6550158309,
          1230393.3258436704,
          1272583.8001925738,
          1222363.8319934485,
          1215053.619526477,
          1221696.622015451,
          1180266.3738338726,
          1149591.5598867326,
          1146164.2075821087,
          1145150.596085201,
          1137160.3994524982,
          1135355.0083141741,
          1138728.785453111
         ],
         "yaxis": "y"
        },
        {
         "hovertemplate": "variable=perfluorocarbons_pfcs<br>year=%{x}<br>value=%{y}<extra></extra>",
         "legendgroup": "perfluorocarbons_pfcs",
         "line": {
          "color": "#FF6692",
          "dash": "solid"
         },
         "marker": {
          "symbol": "circle"
         },
         "mode": "lines",
         "name": "perfluorocarbons_pfcs",
         "orientation": "v",
         "showlegend": true,
         "type": "scatter",
         "x": [
          1990,
          1991,
          1992,
          1993,
          1994,
          1995,
          1996,
          1997,
          1998,
          1999,
          2000,
          2001,
          2002,
          2003,
          2004,
          2005,
          2006,
          2007,
          2008,
          2009,
          2010,
          2011,
          2012,
          2013,
          2014
         ],
         "xaxis": "x",
         "y": [
          115166.24582867218,
          109225.97798472077,
          95962.47361951794,
          95226.95702412642,
          92297.40950094069,
          94519.86802658824,
          93336.42950581992,
          89011.20997142333,
          82658.65968621678,
          76289.08827485035,
          70053.96521682573,
          56608.94844159782,
          59074.715586955426,
          51235.909683451195,
          47071.086459475635,
          43533.01634208126,
          39409.62199543601,
          37308.5943286018,
          31652.05766153618,
          21681.546304407642,
          22833.78859513347,
          24989.449691313235,
          22697.50271451296,
          22625.735778131602,
          20703.1926744619
         ],
         "yaxis": "y"
        },
        {
         "hovertemplate": "variable=sulphur_hexafluoride_sf6<br>year=%{x}<br>value=%{y}<extra></extra>",
         "legendgroup": "sulphur_hexafluoride_sf6",
         "line": {
          "color": "#B6E880",
          "dash": "solid"
         },
         "marker": {
          "symbol": "circle"
         },
         "mode": "lines",
         "name": "sulphur_hexafluoride_sf6",
         "orientation": "v",
         "showlegend": true,
         "type": "scatter",
         "x": [
          1990,
          1991,
          1992,
          1993,
          1994,
          1995,
          1996,
          1997,
          1998,
          1999,
          2000,
          2001,
          2002,
          2003,
          2004,
          2005,
          2006,
          2007,
          2008,
          2009,
          2010,
          2011,
          2012,
          2013,
          2014
         ],
         "xaxis": "x",
         "y": [
          72608.68305161713,
          73987.62500423392,
          74127.68994309421,
          74717.08596976685,
          75097.6635200333,
          77183.82144437138,
          77197.88197180373,
          70281.23104925074,
          65054.9622368907,
          55982.891987892275,
          51112.98981562309,
          47396.492659049705,
          43980.11808429455,
          42211.58291339335,
          40934.051152272405,
          39146.761709365994,
          37263.37609624524,
          33552.0575324331,
          30584.147231731222,
          26608.209178940422,
          26936.87297682599,
          26868.49808056535,
          29460.918448650657,
          27551.190682249424,
          23315.70590302256
         ],
         "yaxis": "y"
        },
        {
         "hovertemplate": "variable=unspecified_mix_of_hydrofluorocarbons_hfcs_and_perfluorocarbons_pfcs<br>year=%{x}<br>value=%{y}<extra></extra>",
         "legendgroup": "unspecified_mix_of_hydrofluorocarbons_hfcs_and_perfluorocarbons_pfcs",
         "line": {
          "color": "#FF97FF",
          "dash": "solid"
         },
         "marker": {
          "symbol": "circle"
         },
         "mode": "lines",
         "name": "unspecified_mix_of_hydrofluorocarbons_hfcs_and_perfluorocarbons_pfcs",
         "orientation": "v",
         "showlegend": true,
         "type": "scatter",
         "x": [
          1990,
          1991,
          1992,
          1993,
          1994,
          1995,
          1996,
          1997,
          1998,
          1999,
          2000,
          2001,
          2002,
          2003,
          2004,
          2005,
          2006,
          2007,
          2008,
          2009,
          2010,
          2011,
          2012,
          2013,
          2014
         ],
         "xaxis": "x",
         "y": [
          11704.6534512,
          11040.347608,
          11018.713884,
          11018.2140724,
          11567.9927896,
          13311.224859599999,
          11886.2248848,
          12321.732928000001,
          12687.6503376,
          12491.4526108,
          8522.7182932,
          7881.295183599999,
          8429.1768872,
          7218.0748404000005,
          7312.8448499999995,
          7700.9819896,
          7740.1715796,
          7727.7844176,
          8565.9995,
          9583.185812400001,
          8494.6810264,
          8531.8253632,
          8948.5895876,
          9380.6155628,
          9753.78967926
         ],
         "yaxis": "y"
        }
       ],
       "layout": {
        "legend": {
         "title": {
          "text": "variable"
         },
         "tracegroupgap": 0
        },
        "template": {
         "data": {
          "bar": [
           {
            "error_x": {
             "color": "#2a3f5f"
            },
            "error_y": {
             "color": "#2a3f5f"
            },
            "marker": {
             "line": {
              "color": "#E5ECF6",
              "width": 0.5
             },
             "pattern": {
              "fillmode": "overlay",
              "size": 10,
              "solidity": 0.2
             }
            },
            "type": "bar"
           }
          ],
          "barpolar": [
           {
            "marker": {
             "line": {
              "color": "#E5ECF6",
              "width": 0.5
             },
             "pattern": {
              "fillmode": "overlay",
              "size": 10,
              "solidity": 0.2
             }
            },
            "type": "barpolar"
           }
          ],
          "carpet": [
           {
            "aaxis": {
             "endlinecolor": "#2a3f5f",
             "gridcolor": "white",
             "linecolor": "white",
             "minorgridcolor": "white",
             "startlinecolor": "#2a3f5f"
            },
            "baxis": {
             "endlinecolor": "#2a3f5f",
             "gridcolor": "white",
             "linecolor": "white",
             "minorgridcolor": "white",
             "startlinecolor": "#2a3f5f"
            },
            "type": "carpet"
           }
          ],
          "choropleth": [
           {
            "colorbar": {
             "outlinewidth": 0,
             "ticks": ""
            },
            "type": "choropleth"
           }
          ],
          "contour": [
           {
            "colorbar": {
             "outlinewidth": 0,
             "ticks": ""
            },
            "colorscale": [
             [
              0,
              "#0d0887"
             ],
             [
              0.1111111111111111,
              "#46039f"
             ],
             [
              0.2222222222222222,
              "#7201a8"
             ],
             [
              0.3333333333333333,
              "#9c179e"
             ],
             [
              0.4444444444444444,
              "#bd3786"
             ],
             [
              0.5555555555555556,
              "#d8576b"
             ],
             [
              0.6666666666666666,
              "#ed7953"
             ],
             [
              0.7777777777777778,
              "#fb9f3a"
             ],
             [
              0.8888888888888888,
              "#fdca26"
             ],
             [
              1,
              "#f0f921"
             ]
            ],
            "type": "contour"
           }
          ],
          "contourcarpet": [
           {
            "colorbar": {
             "outlinewidth": 0,
             "ticks": ""
            },
            "type": "contourcarpet"
           }
          ],
          "heatmap": [
           {
            "colorbar": {
             "outlinewidth": 0,
             "ticks": ""
            },
            "colorscale": [
             [
              0,
              "#0d0887"
             ],
             [
              0.1111111111111111,
              "#46039f"
             ],
             [
              0.2222222222222222,
              "#7201a8"
             ],
             [
              0.3333333333333333,
              "#9c179e"
             ],
             [
              0.4444444444444444,
              "#bd3786"
             ],
             [
              0.5555555555555556,
              "#d8576b"
             ],
             [
              0.6666666666666666,
              "#ed7953"
             ],
             [
              0.7777777777777778,
              "#fb9f3a"
             ],
             [
              0.8888888888888888,
              "#fdca26"
             ],
             [
              1,
              "#f0f921"
             ]
            ],
            "type": "heatmap"
           }
          ],
          "heatmapgl": [
           {
            "colorbar": {
             "outlinewidth": 0,
             "ticks": ""
            },
            "colorscale": [
             [
              0,
              "#0d0887"
             ],
             [
              0.1111111111111111,
              "#46039f"
             ],
             [
              0.2222222222222222,
              "#7201a8"
             ],
             [
              0.3333333333333333,
              "#9c179e"
             ],
             [
              0.4444444444444444,
              "#bd3786"
             ],
             [
              0.5555555555555556,
              "#d8576b"
             ],
             [
              0.6666666666666666,
              "#ed7953"
             ],
             [
              0.7777777777777778,
              "#fb9f3a"
             ],
             [
              0.8888888888888888,
              "#fdca26"
             ],
             [
              1,
              "#f0f921"
             ]
            ],
            "type": "heatmapgl"
           }
          ],
          "histogram": [
           {
            "marker": {
             "pattern": {
              "fillmode": "overlay",
              "size": 10,
              "solidity": 0.2
             }
            },
            "type": "histogram"
           }
          ],
          "histogram2d": [
           {
            "colorbar": {
             "outlinewidth": 0,
             "ticks": ""
            },
            "colorscale": [
             [
              0,
              "#0d0887"
             ],
             [
              0.1111111111111111,
              "#46039f"
             ],
             [
              0.2222222222222222,
              "#7201a8"
             ],
             [
              0.3333333333333333,
              "#9c179e"
             ],
             [
              0.4444444444444444,
              "#bd3786"
             ],
             [
              0.5555555555555556,
              "#d8576b"
             ],
             [
              0.6666666666666666,
              "#ed7953"
             ],
             [
              0.7777777777777778,
              "#fb9f3a"
             ],
             [
              0.8888888888888888,
              "#fdca26"
             ],
             [
              1,
              "#f0f921"
             ]
            ],
            "type": "histogram2d"
           }
          ],
          "histogram2dcontour": [
           {
            "colorbar": {
             "outlinewidth": 0,
             "ticks": ""
            },
            "colorscale": [
             [
              0,
              "#0d0887"
             ],
             [
              0.1111111111111111,
              "#46039f"
             ],
             [
              0.2222222222222222,
              "#7201a8"
             ],
             [
              0.3333333333333333,
              "#9c179e"
             ],
             [
              0.4444444444444444,
              "#bd3786"
             ],
             [
              0.5555555555555556,
              "#d8576b"
             ],
             [
              0.6666666666666666,
              "#ed7953"
             ],
             [
              0.7777777777777778,
              "#fb9f3a"
             ],
             [
              0.8888888888888888,
              "#fdca26"
             ],
             [
              1,
              "#f0f921"
             ]
            ],
            "type": "histogram2dcontour"
           }
          ],
          "mesh3d": [
           {
            "colorbar": {
             "outlinewidth": 0,
             "ticks": ""
            },
            "type": "mesh3d"
           }
          ],
          "parcoords": [
           {
            "line": {
             "colorbar": {
              "outlinewidth": 0,
              "ticks": ""
             }
            },
            "type": "parcoords"
           }
          ],
          "pie": [
           {
            "automargin": true,
            "type": "pie"
           }
          ],
          "scatter": [
           {
            "marker": {
             "colorbar": {
              "outlinewidth": 0,
              "ticks": ""
             }
            },
            "type": "scatter"
           }
          ],
          "scatter3d": [
           {
            "line": {
             "colorbar": {
              "outlinewidth": 0,
              "ticks": ""
             }
            },
            "marker": {
             "colorbar": {
              "outlinewidth": 0,
              "ticks": ""
             }
            },
            "type": "scatter3d"
           }
          ],
          "scattercarpet": [
           {
            "marker": {
             "colorbar": {
              "outlinewidth": 0,
              "ticks": ""
             }
            },
            "type": "scattercarpet"
           }
          ],
          "scattergeo": [
           {
            "marker": {
             "colorbar": {
              "outlinewidth": 0,
              "ticks": ""
             }
            },
            "type": "scattergeo"
           }
          ],
          "scattergl": [
           {
            "marker": {
             "colorbar": {
              "outlinewidth": 0,
              "ticks": ""
             }
            },
            "type": "scattergl"
           }
          ],
          "scattermapbox": [
           {
            "marker": {
             "colorbar": {
              "outlinewidth": 0,
              "ticks": ""
             }
            },
            "type": "scattermapbox"
           }
          ],
          "scatterpolar": [
           {
            "marker": {
             "colorbar": {
              "outlinewidth": 0,
              "ticks": ""
             }
            },
            "type": "scatterpolar"
           }
          ],
          "scatterpolargl": [
           {
            "marker": {
             "colorbar": {
              "outlinewidth": 0,
              "ticks": ""
             }
            },
            "type": "scatterpolargl"
           }
          ],
          "scatterternary": [
           {
            "marker": {
             "colorbar": {
              "outlinewidth": 0,
              "ticks": ""
             }
            },
            "type": "scatterternary"
           }
          ],
          "surface": [
           {
            "colorbar": {
             "outlinewidth": 0,
             "ticks": ""
            },
            "colorscale": [
             [
              0,
              "#0d0887"
             ],
             [
              0.1111111111111111,
              "#46039f"
             ],
             [
              0.2222222222222222,
              "#7201a8"
             ],
             [
              0.3333333333333333,
              "#9c179e"
             ],
             [
              0.4444444444444444,
              "#bd3786"
             ],
             [
              0.5555555555555556,
              "#d8576b"
             ],
             [
              0.6666666666666666,
              "#ed7953"
             ],
             [
              0.7777777777777778,
              "#fb9f3a"
             ],
             [
              0.8888888888888888,
              "#fdca26"
             ],
             [
              1,
              "#f0f921"
             ]
            ],
            "type": "surface"
           }
          ],
          "table": [
           {
            "cells": {
             "fill": {
              "color": "#EBF0F8"
             },
             "line": {
              "color": "white"
             }
            },
            "header": {
             "fill": {
              "color": "#C8D4E3"
             },
             "line": {
              "color": "white"
             }
            },
            "type": "table"
           }
          ]
         },
         "layout": {
          "annotationdefaults": {
           "arrowcolor": "#2a3f5f",
           "arrowhead": 0,
           "arrowwidth": 1
          },
          "autotypenumbers": "strict",
          "coloraxis": {
           "colorbar": {
            "outlinewidth": 0,
            "ticks": ""
           }
          },
          "colorscale": {
           "diverging": [
            [
             0,
             "#8e0152"
            ],
            [
             0.1,
             "#c51b7d"
            ],
            [
             0.2,
             "#de77ae"
            ],
            [
             0.3,
             "#f1b6da"
            ],
            [
             0.4,
             "#fde0ef"
            ],
            [
             0.5,
             "#f7f7f7"
            ],
            [
             0.6,
             "#e6f5d0"
            ],
            [
             0.7,
             "#b8e186"
            ],
            [
             0.8,
             "#7fbc41"
            ],
            [
             0.9,
             "#4d9221"
            ],
            [
             1,
             "#276419"
            ]
           ],
           "sequential": [
            [
             0,
             "#0d0887"
            ],
            [
             0.1111111111111111,
             "#46039f"
            ],
            [
             0.2222222222222222,
             "#7201a8"
            ],
            [
             0.3333333333333333,
             "#9c179e"
            ],
            [
             0.4444444444444444,
             "#bd3786"
            ],
            [
             0.5555555555555556,
             "#d8576b"
            ],
            [
             0.6666666666666666,
             "#ed7953"
            ],
            [
             0.7777777777777778,
             "#fb9f3a"
            ],
            [
             0.8888888888888888,
             "#fdca26"
            ],
            [
             1,
             "#f0f921"
            ]
           ],
           "sequentialminus": [
            [
             0,
             "#0d0887"
            ],
            [
             0.1111111111111111,
             "#46039f"
            ],
            [
             0.2222222222222222,
             "#7201a8"
            ],
            [
             0.3333333333333333,
             "#9c179e"
            ],
            [
             0.4444444444444444,
             "#bd3786"
            ],
            [
             0.5555555555555556,
             "#d8576b"
            ],
            [
             0.6666666666666666,
             "#ed7953"
            ],
            [
             0.7777777777777778,
             "#fb9f3a"
            ],
            [
             0.8888888888888888,
             "#fdca26"
            ],
            [
             1,
             "#f0f921"
            ]
           ]
          },
          "colorway": [
           "#636efa",
           "#EF553B",
           "#00cc96",
           "#ab63fa",
           "#FFA15A",
           "#19d3f3",
           "#FF6692",
           "#B6E880",
           "#FF97FF",
           "#FECB52"
          ],
          "font": {
           "color": "#2a3f5f"
          },
          "geo": {
           "bgcolor": "white",
           "lakecolor": "white",
           "landcolor": "#E5ECF6",
           "showlakes": true,
           "showland": true,
           "subunitcolor": "white"
          },
          "hoverlabel": {
           "align": "left"
          },
          "hovermode": "closest",
          "mapbox": {
           "style": "light"
          },
          "paper_bgcolor": "white",
          "plot_bgcolor": "#E5ECF6",
          "polar": {
           "angularaxis": {
            "gridcolor": "white",
            "linecolor": "white",
            "ticks": ""
           },
           "bgcolor": "#E5ECF6",
           "radialaxis": {
            "gridcolor": "white",
            "linecolor": "white",
            "ticks": ""
           }
          },
          "scene": {
           "xaxis": {
            "backgroundcolor": "#E5ECF6",
            "gridcolor": "white",
            "gridwidth": 2,
            "linecolor": "white",
            "showbackground": true,
            "ticks": "",
            "zerolinecolor": "white"
           },
           "yaxis": {
            "backgroundcolor": "#E5ECF6",
            "gridcolor": "white",
            "gridwidth": 2,
            "linecolor": "white",
            "showbackground": true,
            "ticks": "",
            "zerolinecolor": "white"
           },
           "zaxis": {
            "backgroundcolor": "#E5ECF6",
            "gridcolor": "white",
            "gridwidth": 2,
            "linecolor": "white",
            "showbackground": true,
            "ticks": "",
            "zerolinecolor": "white"
           }
          },
          "shapedefaults": {
           "line": {
            "color": "#2a3f5f"
           }
          },
          "ternary": {
           "aaxis": {
            "gridcolor": "white",
            "linecolor": "white",
            "ticks": ""
           },
           "baxis": {
            "gridcolor": "white",
            "linecolor": "white",
            "ticks": ""
           },
           "bgcolor": "#E5ECF6",
           "caxis": {
            "gridcolor": "white",
            "linecolor": "white",
            "ticks": ""
           }
          },
          "title": {
           "x": 0.05
          },
          "xaxis": {
           "automargin": true,
           "gridcolor": "white",
           "linecolor": "white",
           "ticks": "",
           "title": {
            "standoff": 15
           },
           "zerolinecolor": "white",
           "zerolinewidth": 2
          },
          "yaxis": {
           "automargin": true,
           "gridcolor": "white",
           "linecolor": "white",
           "ticks": "",
           "title": {
            "standoff": 15
           },
           "zerolinecolor": "white",
           "zerolinewidth": 2
          }
         }
        },
        "title": {
         "text": "CO2 Emission by Category"
        },
        "xaxis": {
         "anchor": "y",
         "domain": [
          0,
          1
         ],
         "title": {
          "text": "year"
         }
        },
        "yaxis": {
         "anchor": "x",
         "domain": [
          0,
          1
         ],
         "title": {
          "text": "value"
         }
        }
       }
      }
     },
     "metadata": {},
     "output_type": "display_data"
    }
   ],
   "source": [
    "fig = px.line(df_grouped_by_category, \n",
    "              x='year', \n",
    "              y=df_grouped_by_category.columns[1:],\n",
    "              title=\"CO2 Emission by Category\")\n",
    "fig.show()"
   ]
  },
  {
   "cell_type": "code",
   "execution_count": 63,
   "metadata": {},
   "outputs": [],
   "source": [
    "df_grouped_by_country_or_area = emissions. \\\n",
    "    groupby(['year', 'country_or_area'])[\"value\"].agg('sum').reset_index(). \\\n",
    "    pivot(index='year', columns='country_or_area', values='value').reset_index()"
   ]
  },
  {
   "cell_type": "code",
   "execution_count": 64,
   "metadata": {},
   "outputs": [
    {
     "data": {
      "application/vnd.plotly.v1+json": {
       "config": {
        "plotlyServerURL": "https://plot.ly"
       },
       "data": [
        {
         "hovertemplate": "variable=Australia<br>year=%{x}<br>value=%{y}<extra></extra>",
         "legendgroup": "Australia",
         "line": {
          "color": "#636efa",
          "dash": "solid"
         },
         "marker": {
          "symbol": "circle"
         },
         "mode": "lines",
         "name": "Australia",
         "showlegend": true,
         "type": "scattergl",
         "x": [
          1990,
          1991,
          1992,
          1993,
          1994,
          1995,
          1996,
          1997,
          1998,
          1999,
          2000,
          2001,
          2002,
          2003,
          2004,
          2005,
          2006,
          2007,
          2008,
          2009,
          2010,
          2011,
          2012,
          2013,
          2014
         ],
         "xaxis": "x",
         "y": [
          1255869.148687947,
          1256022.1724815858,
          1269240.324573761,
          1271294.7976927564,
          1272278.878117681,
          1300435.952477564,
          1319411.886684756,
          1355165.1534439982,
          1399146.3374154416,
          1416737.9723328,
          1450337.4799944693,
          1474325.0878114267,
          1484220.3023302017,
          1485462.2579004087,
          1535130.726062472,
          1556552.2783871244,
          1567551.5749898553,
          1589528.6110274524,
          1601080.5246221307,
          1613669.677870851,
          1601752.3088861704,
          1602269.3960541268,
          1612132.7143584145,
          1580648.001799779,
          1567191.272134041
         ],
         "yaxis": "y"
        },
        {
         "hovertemplate": "variable=Austria<br>year=%{x}<br>value=%{y}<extra></extra>",
         "legendgroup": "Austria",
         "line": {
          "color": "#EF553B",
          "dash": "solid"
         },
         "marker": {
          "symbol": "circle"
         },
         "mode": "lines",
         "name": "Austria",
         "showlegend": true,
         "type": "scattergl",
         "x": [
          1990,
          1991,
          1992,
          1993,
          1994,
          1995,
          1996,
          1997,
          1998,
          1999,
          2000,
          2001,
          2002,
          2003,
          2004,
          2005,
          2006,
          2007,
          2008,
          2009,
          2010,
          2011,
          2012,
          2013,
          2014
         ],
         "xaxis": "x",
         "y": [
          236533.88177860703,
          247910.71039820582,
          227792.98729546988,
          227964.68112945362,
          229510.45586354134,
          239439.10360798682,
          249026.41890026964,
          247423.17609325534,
          245312.51866893843,
          240320.1515277396,
          241288.03017895354,
          253142.42065631226,
          258388.63931587653,
          276055.4434234817,
          275507.68272308464,
          278431.4615908602,
          269943.0638489205,
          261723.46359168814,
          261303.40403138698,
          240571.95431345468,
          254838.05912930937,
          247879.91405669073,
          239691.34530653764,
          240127.62552242875,
          228997.85575797514
         ],
         "yaxis": "y"
        },
        {
         "hovertemplate": "variable=Belarus<br>year=%{x}<br>value=%{y}<extra></extra>",
         "legendgroup": "Belarus",
         "line": {
          "color": "#00cc96",
          "dash": "solid"
         },
         "marker": {
          "symbol": "circle"
         },
         "mode": "lines",
         "name": "Belarus",
         "showlegend": true,
         "type": "scattergl",
         "x": [
          1990,
          1991,
          1992,
          1993,
          1994,
          1995,
          1996,
          1997,
          1998,
          1999,
          2000,
          2001,
          2002,
          2003,
          2004,
          2005,
          2006,
          2007,
          2008,
          2009,
          2010,
          2011,
          2012,
          2013,
          2014
         ],
         "xaxis": "x",
         "y": [
          400371.486036261,
          376803.158783418,
          349766.05939373403,
          311854.575768057,
          264619.0702206,
          241109.347036197,
          247125.582658032,
          258847.517811546,
          248006.494685913,
          238493.52617012998,
          233879.174877969,
          233765.4827745,
          230051.60365545,
          237476.156466081,
          251064.898702008,
          256788.296098566,
          268348.966338834,
          266761.925844264,
          277093.04691532796,
          267670.96877697,
          273550.648074468,
          275015.18102871603,
          272775.343745811,
          279111.73633998004,
          275686.93967345404
         ],
         "yaxis": "y"
        },
        {
         "hovertemplate": "variable=Belgium<br>year=%{x}<br>value=%{y}<extra></extra>",
         "legendgroup": "Belgium",
         "line": {
          "color": "#ab63fa",
          "dash": "solid"
         },
         "marker": {
          "symbol": "circle"
         },
         "mode": "lines",
         "name": "Belgium",
         "showlegend": true,
         "type": "scattergl",
         "x": [
          1990,
          1991,
          1992,
          1993,
          1994,
          1995,
          1996,
          1997,
          1998,
          1999,
          2000,
          2001,
          2002,
          2003,
          2004,
          2005,
          2006,
          2007,
          2008,
          2009,
          2010,
          2011,
          2012,
          2013,
          2014
         ],
         "xaxis": "x",
         "y": [
          438063.7102817468,
          446477.0982253166,
          445154.1804508672,
          442180.1838932549,
          455647.11757978785,
          462060.8811106165,
          472970.06134884025,
          447490.36774149624,
          463021.17860359786,
          444187.3308584162,
          447639.05173639423,
          442878.40045878623,
          441721.0958403901,
          442737.2090826187,
          446914.2142963888,
          434409.24609093904,
          423140.1225203583,
          409354.0178075432,
          416248.8781705951,
          377435.4060914008,
          399775.21698521404,
          368500.18653695117,
          356284.0145696615,
          358125.9045463415,
          341599.857001623
         ],
         "yaxis": "y"
        },
        {
         "hovertemplate": "variable=Bulgaria<br>year=%{x}<br>value=%{y}<extra></extra>",
         "legendgroup": "Bulgaria",
         "line": {
          "color": "#FFA15A",
          "dash": "solid"
         },
         "marker": {
          "symbol": "circle"
         },
         "mode": "lines",
         "name": "Bulgaria",
         "showlegend": true,
         "type": "scattergl",
         "x": [
          1990,
          1991,
          1992,
          1993,
          1994,
          1995,
          1996,
          1997,
          1998,
          1999,
          2000,
          2001,
          2002,
          2003,
          2004,
          2005,
          2006,
          2007,
          2008,
          2009,
          2010,
          2011,
          2012,
          2013,
          2014
         ],
         "xaxis": "x",
         "y": [
          206901.56830180634,
          163852.03873481543,
          154398.69235698937,
          152390.5982581639,
          145531.2302044734,
          148524.16018870097,
          148762.17489819502,
          141808.84358210984,
          133697.32928247188,
          120180.21547860382,
          118310.11249677622,
          124442.6716636342,
          118564.01172933327,
          128042.7330131688,
          126461.45902239338,
          126917.80553335237,
          128236.79111486983,
          135884.83725758386,
          133450.6187144602,
          115671.9454709168,
          121038.39255695265,
          131715.2081693372,
          121446.98203036223,
          111194.05149285804,
          115615.18593928436
         ],
         "yaxis": "y"
        },
        {
         "hovertemplate": "variable=Canada<br>year=%{x}<br>value=%{y}<extra></extra>",
         "legendgroup": "Canada",
         "line": {
          "color": "#19d3f3",
          "dash": "solid"
         },
         "marker": {
          "symbol": "circle"
         },
         "mode": "lines",
         "name": "Canada",
         "showlegend": true,
         "type": "scattergl",
         "x": [
          1990,
          1991,
          1992,
          1993,
          1994,
          1995,
          1996,
          1997,
          1998,
          1999,
          2000,
          2001,
          2002,
          2003,
          2004,
          2005,
          2006,
          2007,
          2008,
          2009,
          2010,
          2011,
          2012,
          2013,
          2014
         ],
         "xaxis": "x",
         "y": [
          1842640.2139184163,
          1822957.361146,
          1870661.5256239884,
          1880636.5836397046,
          1945015.5599603725,
          2018992.9621786582,
          2060077.0752175753,
          2103451.2352213124,
          2144145.16361893,
          2172761.608479017,
          2234472.454935227,
          2204106.682345553,
          2224670.0536170467,
          2276049.1926285084,
          2282171.5985999857,
          2248813.1662346018,
          2222501.190520699,
          2282884.166598291,
          2221593.1146795773,
          2094722.8128129486,
          2130983.8272597073,
          2142391.4465276045,
          2166169.6625267253,
          2200271.314399485,
          2212009.6390272607
         ],
         "yaxis": "y"
        },
        {
         "hovertemplate": "variable=Croatia<br>year=%{x}<br>value=%{y}<extra></extra>",
         "legendgroup": "Croatia",
         "line": {
          "color": "#FF6692",
          "dash": "solid"
         },
         "marker": {
          "symbol": "circle"
         },
         "mode": "lines",
         "name": "Croatia",
         "showlegend": true,
         "type": "scattergl",
         "x": [
          1990,
          1991,
          1992,
          1993,
          1994,
          1995,
          1996,
          1997,
          1998,
          1999,
          2000,
          2001,
          2002,
          2003,
          2004,
          2005,
          2006,
          2007,
          2008,
          2009,
          2010,
          2011,
          2012,
          2013,
          2014
         ],
         "xaxis": "x",
         "y": [
          93613.89379052189,
          73226.05135748578,
          67614.10170095699,
          67974.88345051944,
          65138.291930278865,
          66888.50174809528,
          68648.8894497804,
          72378.82129600731,
          73379.13253875686,
          76557.25009627642,
          75518.88856778196,
          79182.13703334989,
          82260.28971691358,
          86348.4639780579,
          86627.95430210787,
          87857.25473589062,
          88667.04668672403,
          92918.7362696277,
          89477.84159837312,
          83727.37708679846,
          81840.68950487093,
          80321.47901729067,
          74203.94945923974,
          71311.65830580569,
          68696.6344784445
         ],
         "yaxis": "y"
        },
        {
         "hovertemplate": "variable=Cyprus<br>year=%{x}<br>value=%{y}<extra></extra>",
         "legendgroup": "Cyprus",
         "line": {
          "color": "#B6E880",
          "dash": "solid"
         },
         "marker": {
          "symbol": "circle"
         },
         "mode": "lines",
         "name": "Cyprus",
         "showlegend": true,
         "type": "scattergl",
         "x": [
          1990,
          1991,
          1992,
          1993,
          1994,
          1995,
          1996,
          1997,
          1998,
          1999,
          2000,
          2001,
          2002,
          2003,
          2004,
          2005,
          2006,
          2007,
          2008,
          2009,
          2010,
          2011,
          2012,
          2013,
          2014
         ],
         "xaxis": "x",
         "y": [
          16873.9497660012,
          18364.587003452998,
          19677.9919064298,
          20576.22206196768,
          21309.39803509338,
          21140.797831896092,
          22030.613640587013,
          22419.285274807113,
          23398.67777203539,
          24177.25017313212,
          24980.657202225328,
          24847.64421246435,
          25557.24420849834,
          26743.74927821571,
          27433.114266638368,
          27923.94167783583,
          28702.641579224848,
          29739.70384997595,
          30279.80990397484,
          29616.55106496951,
          28714.97166138681,
          27888.48939105852,
          26308.09807769526,
          24060.29540991141,
          25361.30223989091
         ],
         "yaxis": "y"
        },
        {
         "hovertemplate": "variable=Czech Republic<br>year=%{x}<br>value=%{y}<extra></extra>",
         "legendgroup": "Czech Republic",
         "line": {
          "color": "#FF97FF",
          "dash": "solid"
         },
         "marker": {
          "symbol": "circle"
         },
         "mode": "lines",
         "name": "Czech Republic",
         "showlegend": true,
         "type": "scattergl",
         "x": [
          1990,
          1991,
          1992,
          1993,
          1994,
          1995,
          1996,
          1997,
          1998,
          1999,
          2000,
          2001,
          2002,
          2003,
          2004,
          2005,
          2006,
          2007,
          2008,
          2009,
          2010,
          2011,
          2012,
          2013,
          2014
         ],
         "xaxis": "x",
         "y": [
          591639.0959417451,
          534906.7546294298,
          514322.4312667286,
          490800.274146995,
          467329.0748498481,
          468609.8272210121,
          475102.39350925403,
          463296.3435806595,
          445683.9382240265,
          418534.4638118685,
          447003.057609746,
          445656.66233206046,
          434819.65788232844,
          444882.58969343,
          447263.890333548,
          440713.3435734249,
          446058.0768672498,
          448624.0674411244,
          434731.33258326654,
          409422.6577372458,
          415601.7874116127,
          411956.0054528744,
          399509.4058682075,
          387732.2823259193,
          373524.39210228785
         ],
         "yaxis": "y"
        },
        {
         "hovertemplate": "variable=Denmark<br>year=%{x}<br>value=%{y}<extra></extra>",
         "legendgroup": "Denmark",
         "line": {
          "color": "#FECB52",
          "dash": "solid"
         },
         "marker": {
          "symbol": "circle"
         },
         "mode": "lines",
         "name": "Denmark",
         "showlegend": true,
         "type": "scattergl",
         "x": [
          1990,
          1991,
          1992,
          1993,
          1994,
          1995,
          1996,
          1997,
          1998,
          1999,
          2000,
          2001,
          2002,
          2003,
          2004,
          2005,
          2006,
          2007,
          2008,
          2009,
          2010,
          2011,
          2012,
          2013,
          2014
         ],
         "xaxis": "x",
         "y": [
          211961.2455179528,
          243955.4394048053,
          226310.3791963019,
          231990.34594671987,
          243858.81825084228,
          234668.51145215696,
          273608.7002828979,
          244688.17799355747,
          232084.23542163652,
          224679.1962288087,
          211269.70912524828,
          216567.72449676378,
          215153.75266806292,
          230043.03213862577,
          211686.37382464143,
          198311.23149326473,
          221566.6689676837,
          207669.26501569714,
          196635.7351422796,
          188059.219088424,
          189387.84747234374,
          173724.85579179862,
          159276.35059038052,
          165403.71984395047,
          152777.25785415195
         ],
         "yaxis": "y"
        },
        {
         "hovertemplate": "variable=Estonia<br>year=%{x}<br>value=%{y}<extra></extra>",
         "legendgroup": "Estonia",
         "line": {
          "color": "#636efa",
          "dash": "solid"
         },
         "marker": {
          "symbol": "circle"
         },
         "mode": "lines",
         "name": "Estonia",
         "showlegend": true,
         "type": "scattergl",
         "x": [
          1990,
          1991,
          1992,
          1993,
          1994,
          1995,
          1996,
          1997,
          1998,
          1999,
          2000,
          2001,
          2002,
          2003,
          2004,
          2005,
          2006,
          2007,
          2008,
          2009,
          2010,
          2011,
          2012,
          2013,
          2014
         ],
         "xaxis": "x",
         "y": [
          119895.50615489091,
          110383.68776000763,
          80629.44194080471,
          63005.91373212026,
          65139.48977250124,
          59804.37175035933,
          61895.25797016447,
          60786.47520311459,
          56117.47046390129,
          52075.50141713821,
          51185.55773110467,
          52419.0691456518,
          50790.27219086522,
          56347.09410773641,
          57166.462439063995,
          54893.02406144965,
          53059.3968048657,
          62450.80586290645,
          58123.87198133396,
          48545.89618009804,
          59735.04564265044,
          61455.10811676207,
          58269.97608475139,
          65030.11897707007,
          63177.72040878118
         ],
         "yaxis": "y"
        },
        {
         "hovertemplate": "variable=European Union<br>year=%{x}<br>value=%{y}<extra></extra>",
         "legendgroup": "European Union",
         "line": {
          "color": "#EF553B",
          "dash": "solid"
         },
         "marker": {
          "symbol": "circle"
         },
         "mode": "lines",
         "name": "European Union",
         "showlegend": true,
         "type": "scattergl",
         "x": [
          1990,
          1991,
          1992,
          1993,
          1994,
          1995,
          1996,
          1997,
          1998,
          1999,
          2000,
          2001,
          2002,
          2003,
          2004,
          2005,
          2006,
          2007,
          2008,
          2009,
          2010,
          2011,
          2012,
          2013,
          2014
         ],
         "xaxis": "x",
         "y": [
          16977854.1574772,
          16682867.905700523,
          16144470.098786538,
          15847576.560528228,
          15772805.337995423,
          15925380.50986941,
          16246997.016936934,
          15947688.734958138,
          15804153.49063683,
          15466705.024610763,
          15491305.396610172,
          15644477.87085238,
          15513002.858506858,
          15773109.595528372,
          15758850.545629539,
          15639022.538365252,
          15605447.337267786,
          15428437.709749902,
          15099226.821332589,
          14009389.461227024,
          14331206.801084075,
          13864181.865091478,
          13666022.309107216,
          13393527.874335093,
          12838261.285020653
         ],
         "yaxis": "y"
        },
        {
         "hovertemplate": "variable=Finland<br>year=%{x}<br>value=%{y}<extra></extra>",
         "legendgroup": "Finland",
         "line": {
          "color": "#00cc96",
          "dash": "solid"
         },
         "marker": {
          "symbol": "circle"
         },
         "mode": "lines",
         "name": "Finland",
         "showlegend": true,
         "type": "scattergl",
         "x": [
          1990,
          1991,
          1992,
          1993,
          1994,
          1995,
          1996,
          1997,
          1998,
          1999,
          2000,
          2001,
          2002,
          2003,
          2004,
          2005,
          2006,
          2007,
          2008,
          2009,
          2010,
          2011,
          2012,
          2013,
          2014
         ],
         "xaxis": "x",
         "y": [
          213492.55346573135,
          206717.6532164896,
          202499.7105929621,
          209250.83071003412,
          225773.98271222587,
          215137.02452596975,
          232528.15339511793,
          228293.5881518153,
          217305.7660761415,
          215427.06319442173,
          209719.5258806116,
          225666.83338373745,
          232941.36959490614,
          255384.45697814712,
          244035.2102218698,
          208402.0046461175,
          241971.50692259762,
          237405.38996940883,
          213763.45587518835,
          202820.88556562416,
          227601.01108165723,
          203928.11589693272,
          187045.01806248963,
          189670.09177015626,
          177163.05133401172
         ],
         "yaxis": "y"
        },
        {
         "hovertemplate": "variable=France<br>year=%{x}<br>value=%{y}<extra></extra>",
         "legendgroup": "France",
         "line": {
          "color": "#ab63fa",
          "dash": "solid"
         },
         "marker": {
          "symbol": "circle"
         },
         "mode": "lines",
         "name": "France",
         "showlegend": true,
         "type": "scattergl",
         "x": [
          1990,
          1991,
          1992,
          1993,
          1994,
          1995,
          1996,
          1997,
          1998,
          1999,
          2000,
          2001,
          2002,
          2003,
          2004,
          2005,
          2006,
          2007,
          2008,
          2009,
          2010,
          2011,
          2012,
          2013,
          2014
         ],
         "xaxis": "x",
         "y": [
          1649186.6312137225,
          1727636.9353548558,
          1694224.3022803927,
          1626500.9188991901,
          1623706.329533737,
          1648198.362518763,
          1692845.1959997762,
          1673109.896842798,
          1721827.2036862907,
          1682767.1256895582,
          1671138.5657252956,
          1671242.294260676,
          1653604.5910065882,
          1673291.5098254678,
          1665297.4677397213,
          1675381.9797479298,
          1640237.138180937,
          1613736.5500647903,
          1593274.7680206257,
          1531903.1979592245,
          1557851.5997468745,
          1475731.7351717092,
          1479778.5746710333,
          1474470.4259190864,
          1394205.1176813042
         ],
         "yaxis": "y"
        },
        {
         "hovertemplate": "variable=Germany<br>year=%{x}<br>value=%{y}<extra></extra>",
         "legendgroup": "Germany",
         "line": {
          "color": "#FFA15A",
          "dash": "solid"
         },
         "marker": {
          "symbol": "circle"
         },
         "mode": "lines",
         "name": "Germany",
         "showlegend": true,
         "type": "scattergl",
         "x": [
          1990,
          1991,
          1992,
          1993,
          1994,
          1995,
          1996,
          1997,
          1998,
          1999,
          2000,
          2001,
          2002,
          2003,
          2004,
          2005,
          2006,
          2007,
          2008,
          2009,
          2010,
          2011,
          2012,
          2013,
          2014
         ],
         "xaxis": "x",
         "y": [
          3749485.9461038695,
          3609657.7678673696,
          3458700.9846251365,
          3431024.706917397,
          3372772.5988892703,
          3362831.7144026686,
          3416302.974341282,
          3312731.2610744657,
          3235930.506132722,
          3136259.126977978,
          3129883.302948812,
          3174210.3078817525,
          3110827.3159121135,
          3101182.9676025333,
          3051882.08881692,
          2975546.0612445683,
          2997131.7012080727,
          2915994.9786449727,
          2921826.5139758703,
          2719269.086176866,
          2823116.073692196,
          2765489.2305978113,
          2779015.0849207826,
          2835452.8439888875,
          2705291.816407869
         ],
         "yaxis": "y"
        },
        {
         "hovertemplate": "variable=Greece<br>year=%{x}<br>value=%{y}<extra></extra>",
         "legendgroup": "Greece",
         "line": {
          "color": "#19d3f3",
          "dash": "solid"
         },
         "marker": {
          "symbol": "circle"
         },
         "mode": "lines",
         "name": "Greece",
         "showlegend": true,
         "type": "scattergl",
         "x": [
          1990,
          1991,
          1992,
          1993,
          1994,
          1995,
          1996,
          1997,
          1998,
          1999,
          2000,
          2001,
          2002,
          2003,
          2004,
          2005,
          2006,
          2007,
          2008,
          2009,
          2010,
          2011,
          2012,
          2013,
          2014
         ],
         "xaxis": "x",
         "y": [
          314149.4762495156,
          314303.5338866369,
          318052.61577842967,
          316695.9632356114,
          325207.67529647093,
          332112.33384735906,
          341529.1373708638,
          356047.360596942,
          372866.6815337396,
          373387.9321464484,
          382711.8150357535,
          384746.04746349546,
          384482.9946697046,
          394965.5503186081,
          396858.07071009337,
          407772.67832481256,
          396195.77002372185,
          404558.5268259304,
          393599.8555921889,
          374091.58590177307,
          355879.5525683038,
          346730.34987130156,
          336259.3092720962,
          313692.09374788165,
          303894.55225443863
         ],
         "yaxis": "y"
        },
        {
         "hovertemplate": "variable=Hungary<br>year=%{x}<br>value=%{y}<extra></extra>",
         "legendgroup": "Hungary",
         "line": {
          "color": "#FF6692",
          "dash": "solid"
         },
         "marker": {
          "symbol": "circle"
         },
         "mode": "lines",
         "name": "Hungary",
         "showlegend": true,
         "type": "scattergl",
         "x": [
          1990,
          1991,
          1992,
          1993,
          1994,
          1995,
          1996,
          1997,
          1998,
          1999,
          2000,
          2001,
          2002,
          2003,
          2004,
          2005,
          2006,
          2007,
          2008,
          2009,
          2010,
          2011,
          2012,
          2013,
          2014
         ],
         "xaxis": "x",
         "y": [
          282401.91577535257,
          261903.2040147543,
          231936.51479938562,
          234404.66213354733,
          231078.3522286827,
          227117.3406378648,
          234047.8933589691,
          229661.4239979294,
          228201.16706651938,
          229831.48722647224,
          220670.07810774987,
          227038.04394170872,
          222460.73458901607,
          231577.2017341236,
          228379.3998876531,
          227799.83111868775,
          224640.91569595356,
          219274.85883990276,
          214021.1101013889,
          195248.7705430758,
          196571.06861866917,
          191424.04248564955,
          180320.6999184224,
          172661.49990739554,
          171675.4658316858
         ],
         "yaxis": "y"
        },
        {
         "hovertemplate": "variable=Iceland<br>year=%{x}<br>value=%{y}<extra></extra>",
         "legendgroup": "Iceland",
         "line": {
          "color": "#B6E880",
          "dash": "solid"
         },
         "marker": {
          "symbol": "circle"
         },
         "mode": "lines",
         "name": "Iceland",
         "showlegend": true,
         "type": "scattergl",
         "x": [
          1990,
          1991,
          1992,
          1993,
          1994,
          1995,
          1996,
          1997,
          1998,
          1999,
          2000,
          2001,
          2002,
          2003,
          2004,
          2005,
          2006,
          2007,
          2008,
          2009,
          2010,
          2011,
          2012,
          2013,
          2014
         ],
         "xaxis": "x",
         "y": [
          10900.674026681187,
          10390.31337087348,
          10025.96171917155,
          10177.689175154823,
          9985.11305968098,
          10167.002905123796,
          10416.551650316369,
          10832.573971998725,
          11264.323094240852,
          11942.548024047994,
          11888.318419396976,
          11734.050727609083,
          11810.703015141418,
          11755.778089182204,
          11820.364246948076,
          11693.063513087642,
          13362.10495777257,
          14144.454925599726,
          15421.008490210283,
          14567.316927202475,
          14191.05428917203,
          13560.66259073049,
          13651.210439354581,
          13603.988504631634,
          13790.541988299807
         ],
         "yaxis": "y"
        },
        {
         "hovertemplate": "variable=Ireland<br>year=%{x}<br>value=%{y}<extra></extra>",
         "legendgroup": "Ireland",
         "line": {
          "color": "#FF97FF",
          "dash": "solid"
         },
         "marker": {
          "symbol": "circle"
         },
         "mode": "lines",
         "name": "Ireland",
         "showlegend": true,
         "type": "scattergl",
         "x": [
          1990,
          1991,
          1992,
          1993,
          1994,
          1995,
          1996,
          1997,
          1998,
          1999,
          2000,
          2001,
          2002,
          2003,
          2004,
          2005,
          2006,
          2007,
          2008,
          2009,
          2010,
          2011,
          2012,
          2013,
          2014
         ],
         "xaxis": "x",
         "y": [
          168344.22426027473,
          170557.3181641832,
          170507.63686568692,
          171331.32840279603,
          175188.36616495554,
          179454.89105779096,
          185841.15741272838,
          190382.3609389873,
          197845.7761208337,
          201270.18050317073,
          207827.66490909117,
          214023.49480262172,
          207956.46646099063,
          208695.10078296377,
          206644.17423874934,
          211038.74182601017,
          209224.40565499983,
          207074.11004589358,
          205198.20397692604,
          188433.33894370822,
          186769.31615459477,
          174455.2616941478,
          175930.80312440186,
          175509.94204075742,
          174631.9811817805
         ],
         "yaxis": "y"
        },
        {
         "hovertemplate": "variable=Italy<br>year=%{x}<br>value=%{y}<extra></extra>",
         "legendgroup": "Italy",
         "line": {
          "color": "#FECB52",
          "dash": "solid"
         },
         "marker": {
          "symbol": "circle"
         },
         "mode": "lines",
         "name": "Italy",
         "showlegend": true,
         "type": "scattergl",
         "x": [
          1990,
          1991,
          1992,
          1993,
          1994,
          1995,
          1996,
          1997,
          1998,
          1999,
          2000,
          2001,
          2002,
          2003,
          2004,
          2005,
          2006,
          2007,
          2008,
          2009,
          2010,
          2011,
          2012,
          2013,
          2014
         ],
         "xaxis": "x",
         "y": [
          1565761.8015851707,
          1570469.4264473696,
          1559948.3352142267,
          1540834.8550236418,
          1516699.6160823568,
          1600349.305717071,
          1580476.6071154012,
          1598219.7911642073,
          1631401.290619003,
          1648485.6914677178,
          1663437.8692372204,
          1684800.98269971,
          1685663.8572836255,
          1734379.1048349452,
          1742176.740479658,
          1736713.3209145684,
          1707164.4136501595,
          1683412.7582921523,
          1648358.18722407,
          1496683.9653102027,
          1525272.2949158996,
          1484368.7536951522,
          1406153.7475280794,
          1316662.1086637368,
          1255761.6445584274
         ],
         "yaxis": "y"
        },
        {
         "hovertemplate": "variable=Japan<br>year=%{x}<br>value=%{y}<extra></extra>",
         "legendgroup": "Japan",
         "line": {
          "color": "#636efa",
          "dash": "solid"
         },
         "marker": {
          "symbol": "circle"
         },
         "mode": "lines",
         "name": "Japan",
         "showlegend": true,
         "type": "scattergl",
         "x": [
          1990,
          1991,
          1992,
          1993,
          1994,
          1995,
          1996,
          1997,
          1998,
          1999,
          2000,
          2001,
          2002,
          2003,
          2004,
          2005,
          2006,
          2007,
          2008,
          2009,
          2010,
          2011,
          2012,
          2013,
          2014
         ],
         "xaxis": "x",
         "y": [
          3812228.8444915777,
          3842813.0973349195,
          3883213.807959235,
          3857629.965458332,
          4074803.0339655634,
          4139773.632675668,
          4179328.314511984,
          4169720.981221855,
          4037520.715192042,
          4103658.267707698,
          4160141.5305022467,
          4076146.5238565393,
          4170993.423377372,
          4178106.437368891,
          4168779.5633578184,
          4191305.4568403657,
          4133585.8166190833,
          4238385.222715473,
          3981505.585669256,
          3753010.7506470615,
          3914707.926213837,
          4063848.021633872,
          4171019.9177812776,
          4223649.676605112,
          4091586.9153753263
         ],
         "yaxis": "y"
        },
        {
         "hovertemplate": "variable=Latvia<br>year=%{x}<br>value=%{y}<extra></extra>",
         "legendgroup": "Latvia",
         "line": {
          "color": "#EF553B",
          "dash": "solid"
         },
         "marker": {
          "symbol": "circle"
         },
         "mode": "lines",
         "name": "Latvia",
         "showlegend": true,
         "type": "scattergl",
         "x": [
          1990,
          1991,
          1992,
          1993,
          1994,
          1995,
          1996,
          1997,
          1998,
          1999,
          2000,
          2001,
          2002,
          2003,
          2004,
          2005,
          2006,
          2007,
          2008,
          2009,
          2010,
          2011,
          2012,
          2013,
          2014
         ],
         "xaxis": "x",
         "y": [
          79105.34816950295,
          73160.41150856589,
          58788.78556232637,
          48485.74996779059,
          42768.21139609688,
          38509.129292627666,
          38660.49174637234,
          36968.61027759571,
          35435.35044847838,
          33056.95909413589,
          31329.263190484315,
          33128.37765615362,
          33043.32328975414,
          33514.85225950613,
          33486.16366123813,
          34144.524726690426,
          35701.20217544787,
          37095.05776326003,
          35827.52099089435,
          33668.739883035254,
          37088.057018949024,
          34882.86348975046,
          34554.00937234259,
          34322.47356248334,
          34139.47488519888
         ],
         "yaxis": "y"
        },
        {
         "hovertemplate": "variable=Liechtenstein<br>year=%{x}<br>value=%{y}<extra></extra>",
         "legendgroup": "Liechtenstein",
         "line": {
          "color": "#00cc96",
          "dash": "solid"
         },
         "marker": {
          "symbol": "circle"
         },
         "mode": "lines",
         "name": "Liechtenstein",
         "showlegend": true,
         "type": "scattergl",
         "x": [
          1990,
          1991,
          1992,
          1993,
          1994,
          1995,
          1996,
          1997,
          1998,
          1999,
          2000,
          2001,
          2002,
          2003,
          2004,
          2005,
          2006,
          2007,
          2008,
          2009,
          2010,
          2011,
          2012,
          2013,
          2014
         ],
         "xaxis": "x",
         "y": [
          458.35450135547313,
          473.2988615535462,
          473.76571182501146,
          488.01978633879594,
          461.1586760257204,
          468.6437463297283,
          473.6581590541959,
          498.68394632180514,
          520.6762624898381,
          514.8007365718805,
          496.3490933725699,
          495.3100119215223,
          508.1687662161667,
          528.558322893788,
          529.8140743772118,
          531.6570215955973,
          538.4719185509304,
          480.35858703923793,
          520.6933935970277,
          491.5179969737116,
          462.46495990040654,
          437.21038917731573,
          456.3863519292919,
          469.8138604919904,
          408.8324983363927
         ],
         "yaxis": "y"
        },
        {
         "hovertemplate": "variable=Lithuania<br>year=%{x}<br>value=%{y}<extra></extra>",
         "legendgroup": "Lithuania",
         "line": {
          "color": "#ab63fa",
          "dash": "solid"
         },
         "marker": {
          "symbol": "circle"
         },
         "mode": "lines",
         "name": "Lithuania",
         "showlegend": true,
         "type": "scattergl",
         "x": [
          1990,
          1991,
          1992,
          1993,
          1994,
          1995,
          1996,
          1997,
          1998,
          1999,
          2000,
          2001,
          2002,
          2003,
          2004,
          2005,
          2006,
          2007,
          2008,
          2009,
          2010,
          2011,
          2012,
          2013,
          2014
         ],
         "xaxis": "x",
         "y": [
          144570.8460632823,
          150701.3116982826,
          91340.47067472867,
          73644.91315463549,
          69703.73973829261,
          67201.5259190022,
          70404.71282330275,
          68913.32058674314,
          71704.13965479717,
          63699.21953613658,
          58815.85297446575,
          61696.19573155227,
          62957.85029233835,
          63609.04172057049,
          65953.23363665766,
          69108.41487564606,
          70135.34654915366,
          76057.05315849147,
          73183.59201856346,
          59807.75722763189,
          62265.40415953645,
          63763.37253719878,
          63338.02914022768,
          59552.48686396711,
          59333.249418454776
         ],
         "yaxis": "y"
        },
        {
         "hovertemplate": "variable=Luxembourg<br>year=%{x}<br>value=%{y}<extra></extra>",
         "legendgroup": "Luxembourg",
         "line": {
          "color": "#FFA15A",
          "dash": "solid"
         },
         "marker": {
          "symbol": "circle"
         },
         "mode": "lines",
         "name": "Luxembourg",
         "showlegend": true,
         "type": "scattergl",
         "x": [
          1990,
          1991,
          1992,
          1993,
          1994,
          1995,
          1996,
          1997,
          1998,
          1999,
          2000,
          2001,
          2002,
          2003,
          2004,
          2005,
          2006,
          2007,
          2008,
          2009,
          2010,
          2011,
          2012,
          2013,
          2014
         ],
         "xaxis": "x",
         "y": [
          25706.90252350077,
          26793.752364704033,
          26353.435273541338,
          26585.505837635053,
          24917.886619232428,
          20142.622318125403,
          20283.20459405656,
          18911.023537032004,
          17090.256325796723,
          17828.13479601928,
          19444.68911942655,
          20453.954677192207,
          21975.10098450341,
          22695.181386261615,
          25583.256670465387,
          26060.15246885885,
          25774.5383272274,
          24605.962183396412,
          24325.170423206415,
          23285.863937130795,
          24439.913985239764,
          24176.05780688081,
          23539.833485368967,
          22426.40820822699,
          21551.26170776216
         ],
         "yaxis": "y"
        },
        {
         "hovertemplate": "variable=Malta<br>year=%{x}<br>value=%{y}<extra></extra>",
         "legendgroup": "Malta",
         "line": {
          "color": "#19d3f3",
          "dash": "solid"
         },
         "marker": {
          "symbol": "circle"
         },
         "mode": "lines",
         "name": "Malta",
         "showlegend": true,
         "type": "scattergl",
         "x": [
          1990,
          1991,
          1992,
          1993,
          1994,
          1995,
          1996,
          1997,
          1998,
          1999,
          2000,
          2001,
          2002,
          2003,
          2004,
          2005,
          2006,
          2007,
          2008,
          2009,
          2010,
          2011,
          2012,
          2013,
          2014
         ],
         "xaxis": "x",
         "y": [
          6000.755347144711,
          6567.467800924676,
          7001.8136416039215,
          7268.1204112719315,
          7451.056937785223,
          7502.058001826609,
          7554.7262845615505,
          7590.177501089674,
          7572.431249522158,
          7830.740735048667,
          7877.417306342573,
          8307.374383862707,
          8062.449426244265,
          8679.078842000132,
          8536.49883582156,
          8997.493281212695,
          9272.049506040476,
          9530.483770559646,
          9546.838795237982,
          9221.884549343038,
          9296.417118786872,
          9635.11827678561,
          9973.49104812739,
          8861.87495712084,
          8947.934362726628
         ],
         "yaxis": "y"
        },
        {
         "hovertemplate": "variable=Monaco<br>year=%{x}<br>value=%{y}<extra></extra>",
         "legendgroup": "Monaco",
         "line": {
          "color": "#FF6692",
          "dash": "solid"
         },
         "marker": {
          "symbol": "circle"
         },
         "mode": "lines",
         "name": "Monaco",
         "showlegend": true,
         "type": "scattergl",
         "x": [
          1990,
          1991,
          1992,
          1993,
          1994,
          1995,
          1996,
          1997,
          1998,
          1999,
          2000,
          2001,
          2002,
          2003,
          2004,
          2005,
          2006,
          2007,
          2008,
          2009,
          2010,
          2011,
          2012,
          2013,
          2014
         ],
         "xaxis": "x",
         "y": [
          298.2408177469974,
          301.1076121697938,
          317.8058791876952,
          315.15120871724423,
          318.2031979136159,
          311.2981493869317,
          324.6100810246049,
          320.1579473059889,
          319.4569903638482,
          325.54869950764544,
          329.0771001323939,
          323.9173306023002,
          325.05321799599886,
          318.37902550153837,
          306.12821675666714,
          303.32787803331007,
          282.83578764886823,
          293.565171198672,
          287.5672021963545,
          273.5376791079399,
          270.4383244930539,
          260.18488878528876,
          272.24953239093026,
          273.7684686123221,
          null
         ],
         "yaxis": "y"
        },
        {
         "hovertemplate": "variable=Netherlands<br>year=%{x}<br>value=%{y}<extra></extra>",
         "legendgroup": "Netherlands",
         "line": {
          "color": "#B6E880",
          "dash": "solid"
         },
         "marker": {
          "symbol": "circle"
         },
         "mode": "lines",
         "name": "Netherlands",
         "showlegend": true,
         "type": "scattergl",
         "x": [
          1990,
          1991,
          1992,
          1993,
          1994,
          1995,
          1996,
          1997,
          1998,
          1999,
          2000,
          2001,
          2002,
          2003,
          2004,
          2005,
          2006,
          2007,
          2008,
          2009,
          2010,
          2011,
          2012,
          2013,
          2014
         ],
         "xaxis": "x",
         "y": [
          665214.8276846755,
          688690.2135816098,
          690822.4454209234,
          694563.6806047456,
          705601.664655313,
          695602.3696022604,
          728281.017647405,
          705878.0070203856,
          706162.5215142798,
          666065.0907147968,
          660081.36300524,
          659777.5682110836,
          653868.1442062298,
          654033.5495076815,
          657458.5490434188,
          642829.9482255394,
          627690.2067427472,
          624501.3446316043,
          622522.0316851602,
          605280.0337766648,
          640806.5526576893,
          599635.1288813937,
          585433.3132355101,
          584689.7072050598,
          560747.74257911
         ],
         "yaxis": "y"
        },
        {
         "hovertemplate": "variable=New Zealand<br>year=%{x}<br>value=%{y}<extra></extra>",
         "legendgroup": "New Zealand",
         "line": {
          "color": "#FF97FF",
          "dash": "solid"
         },
         "marker": {
          "symbol": "circle"
         },
         "mode": "lines",
         "name": "New Zealand",
         "showlegend": true,
         "type": "scattergl",
         "x": [
          1990,
          1991,
          1992,
          1993,
          1994,
          1995,
          1996,
          1997,
          1998,
          1999,
          2000,
          2001,
          2002,
          2003,
          2004,
          2005,
          2006,
          2007,
          2008,
          2009,
          2010,
          2011,
          2012,
          2013,
          2014
         ],
         "xaxis": "x",
         "y": [
          197485.14143993132,
          200467.85316609291,
          203998.49999874493,
          202895.19750436855,
          206449.74986373266,
          208924.27380639905,
          215503.38359156938,
          223913.9685378534,
          216615.43468061756,
          222793.00821829616,
          229154.0608380303,
          237175.8707067202,
          238850.99431674686,
          246064.7635432423,
          244946.48183132647,
          250998.86378577867,
          251090.24832086757,
          243473.63829440577,
          243061.93844882096,
          235874.1008632518,
          236826.87269404612,
          236824.5626892588,
          242671.09177628823,
          240894.97544095528,
          243313.28723977233
         ],
         "yaxis": "y"
        },
        {
         "hovertemplate": "variable=Norway<br>year=%{x}<br>value=%{y}<extra></extra>",
         "legendgroup": "Norway",
         "line": {
          "color": "#FECB52",
          "dash": "solid"
         },
         "marker": {
          "symbol": "circle"
         },
         "mode": "lines",
         "name": "Norway",
         "showlegend": true,
         "type": "scattergl",
         "x": [
          1990,
          1991,
          1992,
          1993,
          1994,
          1995,
          1996,
          1997,
          1998,
          1999,
          2000,
          2001,
          2002,
          2003,
          2004,
          2005,
          2006,
          2007,
          2008,
          2009,
          2010,
          2011,
          2012,
          2013,
          2014
         ],
         "xaxis": "x",
         "y": [
          155765.31421538073,
          148760.66743195237,
          143335.88147142326,
          149408.35336731724,
          155113.25406041046,
          154233.44776922517,
          163233.28576831895,
          163001.83908107487,
          163497.04988385216,
          166429.3086550755,
          164650.12503293247,
          168435.0082749048,
          165181.51111527684,
          166997.6756883891,
          168642.02543274066,
          165874.85046125154,
          165215.05818562204,
          170899.0368561183,
          166322.93046013682,
          158099.55878754446,
          165897.29089295724,
          162925.93153872542,
          161616.92558868421,
          160756.89717272314,
          159571.82155303835
         ],
         "yaxis": "y"
        },
        {
         "hovertemplate": "variable=Poland<br>year=%{x}<br>value=%{y}<extra></extra>",
         "legendgroup": "Poland",
         "line": {
          "color": "#636efa",
          "dash": "solid"
         },
         "marker": {
          "symbol": "circle"
         },
         "mode": "lines",
         "name": "Poland",
         "showlegend": true,
         "type": "scattergl",
         "x": [
          1990,
          1991,
          1992,
          1993,
          1994,
          1995,
          1996,
          1997,
          1998,
          1999,
          2000,
          2001,
          2002,
          2003,
          2004,
          2005,
          2006,
          2007,
          2008,
          2009,
          2010,
          2011,
          2012,
          2013,
          2014
         ],
         "xaxis": "x",
         "y": [
          1418987.9216855392,
          1387298.3632192085,
          1343140.5118697516,
          1345052.7364031845,
          1329655.6811377269,
          1335818.2621350393,
          1375441.3189302655,
          1346566.4344649613,
          1246863.965892818,
          1212093.5696904538,
          1176827.2722320461,
          1169794.031985321,
          1138937.7424778903,
          1179196.7221134098,
          1192808.31161493,
          1192241.798458596,
          1234606.6305531722,
          1233721.0163726553,
          1209439.5186381387,
          1154838.9863582607,
          1210796.7927146005,
          1209814.0788833434,
          1190950.648099992,
          1179275.6165901544,
          1140112.6976135978
         ],
         "yaxis": "y"
        },
        {
         "hovertemplate": "variable=Portugal<br>year=%{x}<br>value=%{y}<extra></extra>",
         "legendgroup": "Portugal",
         "line": {
          "color": "#EF553B",
          "dash": "solid"
         },
         "marker": {
          "symbol": "circle"
         },
         "mode": "lines",
         "name": "Portugal",
         "showlegend": true,
         "type": "scattergl",
         "x": [
          1990,
          1991,
          1992,
          1993,
          1994,
          1995,
          1996,
          1997,
          1998,
          1999,
          2000,
          2001,
          2002,
          2003,
          2004,
          2005,
          2006,
          2007,
          2008,
          2009,
          2010,
          2011,
          2012,
          2013,
          2014
         ],
         "xaxis": "x",
         "y": [
          181348.41391818103,
          186762.84169318213,
          200613.13307838395,
          196552.329288447,
          200461.2028547505,
          213772.64054822116,
          206176.94230305977,
          216247.88193872178,
          231244.26182016585,
          255239.52448032075,
          251449.36344485029,
          251252.57772367215,
          264211.3332037782,
          248528.2069254616,
          257710.99614758254,
          265484.5312922358,
          250400.7147311165,
          243026.32548176864,
          235931.92236464913,
          227557.3389420441,
          213737.63338164904,
          209081.8635988247,
          202798.59490790477,
          197388.98270524087,
          196987.846779702
         ],
         "yaxis": "y"
        },
        {
         "hovertemplate": "variable=Romania<br>year=%{x}<br>value=%{y}<extra></extra>",
         "legendgroup": "Romania",
         "line": {
          "color": "#00cc96",
          "dash": "solid"
         },
         "marker": {
          "symbol": "circle"
         },
         "mode": "lines",
         "name": "Romania",
         "showlegend": true,
         "type": "scattergl",
         "x": [
          1990,
          1991,
          1992,
          1993,
          1994,
          1995,
          1996,
          1997,
          1998,
          1999,
          2000,
          2001,
          2002,
          2003,
          2004,
          2005,
          2006,
          2007,
          2008,
          2009,
          2010,
          2011,
          2012,
          2013,
          2014
         ],
         "xaxis": "x",
         "y": [
          764997.3688132438,
          625432.2460951643,
          572804.465823789,
          546033.2206691764,
          534323.7133826994,
          555031.5328655813,
          562427.1575430179,
          526476.9803587499,
          465849.37730531115,
          410303.1835680722,
          427214.0020938837,
          447773.7871797696,
          444068.66751621617,
          459814.189424616,
          455631.07483801234,
          447987.6836633546,
          454294.66594834847,
          446124.5413919788,
          430646.6068601161,
          376584.16680983116,
          357374.9432497203,
          372793.85117321997,
          368000.8629127796,
          335801.6875681498,
          334838.43181422347
         ],
         "yaxis": "y"
        },
        {
         "hovertemplate": "variable=Russian Federation<br>year=%{x}<br>value=%{y}<extra></extra>",
         "legendgroup": "Russian Federation",
         "line": {
          "color": "#ab63fa",
          "dash": "solid"
         },
         "marker": {
          "symbol": "circle"
         },
         "mode": "lines",
         "name": "Russian Federation",
         "showlegend": true,
         "type": "scattergl",
         "x": [
          1990,
          1991,
          1992,
          1993,
          1994,
          1995,
          1996,
          1997,
          1998,
          1999,
          2000,
          2001,
          2002,
          2003,
          2004,
          2005,
          2006,
          2007,
          2008,
          2009,
          2010,
          2011,
          2012,
          2013,
          2014
         ],
         "xaxis": "x",
         "y": [
          11302665.13279404,
          10606800.074673774,
          9008306.40062886,
          8427883.574456166,
          7535071.854728938,
          7288297.331121153,
          7064301.78573609,
          6783550.399172102,
          6689023.997181362,
          6784174.6187279625,
          6823493.8332891865,
          7002200.671448494,
          7027598.727376258,
          7266293.36159364,
          7413709.216480772,
          7504913.730217623,
          7723236.0289536845,
          7752927.181339321,
          7849390.661704709,
          7445963.377415211,
          7807450.283770052,
          7995537.773038623,
          8102775.720126929,
          7929193.799523304,
          7946620.041596007
         ],
         "yaxis": "y"
        },
        {
         "hovertemplate": "variable=Slovakia<br>year=%{x}<br>value=%{y}<extra></extra>",
         "legendgroup": "Slovakia",
         "line": {
          "color": "#FFA15A",
          "dash": "solid"
         },
         "marker": {
          "symbol": "circle"
         },
         "mode": "lines",
         "name": "Slovakia",
         "showlegend": true,
         "type": "scattergl",
         "x": [
          1990,
          1991,
          1992,
          1993,
          1994,
          1995,
          1996,
          1997,
          1998,
          1999,
          2000,
          2001,
          2002,
          2003,
          2004,
          2005,
          2006,
          2007,
          2008,
          2009,
          2010,
          2011,
          2012,
          2013,
          2014
         ],
         "xaxis": "x",
         "y": [
          222814.5320533569,
          193933.59971244985,
          177612.83945025902,
          167067.84873020128,
          159159.89713314606,
          163216.7313990318,
          164118.19755120628,
          163190.81407932244,
          158981.52905538608,
          155101.2767686053,
          149137.4329697481,
          156382.99680919747,
          150434.2760625726,
          151759.72804820377,
          153945.487585833,
          153862.12493543225,
          153620.7449659017,
          148215.2192443839,
          150266.2095540192,
          136672.88706148928,
          139448.62126622215,
          136812.05528097923,
          129526.76540051072,
          128377.43669889959,
          121972.80510093961
         ],
         "yaxis": "y"
        },
        {
         "hovertemplate": "variable=Slovenia<br>year=%{x}<br>value=%{y}<extra></extra>",
         "legendgroup": "Slovenia",
         "line": {
          "color": "#19d3f3",
          "dash": "solid"
         },
         "marker": {
          "symbol": "circle"
         },
         "mode": "lines",
         "name": "Slovenia",
         "showlegend": true,
         "type": "scattergl",
         "x": [
          1990,
          1991,
          1992,
          1993,
          1994,
          1995,
          1996,
          1997,
          1998,
          1999,
          2000,
          2001,
          2002,
          2003,
          2004,
          2005,
          2006,
          2007,
          2008,
          2009,
          2010,
          2011,
          2012,
          2013,
          2014
         ],
         "xaxis": "x",
         "y": [
          55849.34728933889,
          51934.58740090681,
          52230.20439192688,
          52816.61462292381,
          54013.336178462756,
          56283.05411330995,
          58320.73342004945,
          59383.400220141004,
          58561.15977039328,
          56678.396916490216,
          57378.68749830749,
          60032.15934698964,
          60479.68724001599,
          59634.74147152981,
          60595.33702091336,
          61568.21520451383,
          62084.9174208069,
          62495.50966321617,
          64570.64525383447,
          58786.10173924537,
          58856.29478842177,
          58879.39196622333,
          57106.26263781059,
          54941.34460117107,
          49746.93568878207
         ],
         "yaxis": "y"
        },
        {
         "hovertemplate": "variable=Spain<br>year=%{x}<br>value=%{y}<extra></extra>",
         "legendgroup": "Spain",
         "line": {
          "color": "#FF6692",
          "dash": "solid"
         },
         "marker": {
          "symbol": "circle"
         },
         "mode": "lines",
         "name": "Spain",
         "showlegend": true,
         "type": "scattergl",
         "x": [
          1990,
          1991,
          1992,
          1993,
          1994,
          1995,
          1996,
          1997,
          1998,
          1999,
          2000,
          2001,
          2002,
          2003,
          2004,
          2005,
          2006,
          2007,
          2008,
          2009,
          2010,
          2011,
          2012,
          2013,
          2014
         ],
         "xaxis": "x",
         "y": [
          561201.7507685283,
          578953.2898463327,
          597319.199133658,
          577041.013230366,
          609688.8364533623,
          640363.1170398259,
          623873.2667441582,
          652524.399789818,
          671928.3616411504,
          725181.9737575097,
          757292.6355307944,
          751579.3882053581,
          787652.1570867264,
          802538.7189726364,
          833837.7733885803,
          863257.7319618581,
          849129.4555827809,
          866801.12279874,
          804633.4997000122,
          731060.5651405421,
          707449.3781493842,
          707744.4771905574,
          697112.8686350103,
          640244.0786029946,
          643488.1339042364
         ],
         "yaxis": "y"
        },
        {
         "hovertemplate": "variable=Sweden<br>year=%{x}<br>value=%{y}<extra></extra>",
         "legendgroup": "Sweden",
         "line": {
          "color": "#B6E880",
          "dash": "solid"
         },
         "marker": {
          "symbol": "circle"
         },
         "mode": "lines",
         "name": "Sweden",
         "showlegend": true,
         "type": "scattergl",
         "x": [
          1990,
          1991,
          1992,
          1993,
          1994,
          1995,
          1996,
          1997,
          1998,
          1999,
          2000,
          2001,
          2002,
          2003,
          2004,
          2005,
          2006,
          2007,
          2008,
          2009,
          2010,
          2011,
          2012,
          2013,
          2014
         ],
         "xaxis": "x",
         "y": [
          215751.77877506352,
          216123.76455896342,
          214581.15108490342,
          215421.57219989883,
          222694.46673658467,
          222088.08096519543,
          232722.30061464143,
          218316.89616411092,
          219257.59257812402,
          210545.10917056675,
          206606.30654281683,
          207576.347430066,
          210482.34510423234,
          211804.08128523204,
          208747.32540267776,
          200904.90811508335,
          200770.27357850724,
          196117.9607141178,
          189363.3674670333,
          177158.2914316683,
          194991.26212456706,
          182961.4431260244,
          172735.07727630815,
          167818.56986979782,
          163148.21185686064
         ],
         "yaxis": "y"
        },
        {
         "hovertemplate": "variable=Switzerland<br>year=%{x}<br>value=%{y}<extra></extra>",
         "legendgroup": "Switzerland",
         "line": {
          "color": "#FF97FF",
          "dash": "solid"
         },
         "marker": {
          "symbol": "circle"
         },
         "mode": "lines",
         "name": "Switzerland",
         "showlegend": true,
         "type": "scattergl",
         "x": [
          1990,
          1991,
          1992,
          1993,
          1994,
          1995,
          1996,
          1997,
          1998,
          1999,
          2000,
          2001,
          2002,
          2003,
          2004,
          2005,
          2006,
          2007,
          2008,
          2009,
          2010,
          2011,
          2012,
          2013,
          2014
         ],
         "xaxis": "x",
         "y": [
          160335.49832425083,
          166146.87363728514,
          165269.12699399944,
          157308.73645158517,
          154270.4727032906,
          156888.25055068225,
          159052.40079625003,
          155267.14066478552,
          160051.62233497613,
          159311.46763574527,
          157134.91166970562,
          161893.68906522953,
          157117.33236867358,
          160762.35414200794,
          162656.0786757443,
          164703.6772136326,
          163572.8665189701,
          157790.63759522224,
          162378.94149906817,
          158453.39183562904,
          163244.25026089762,
          151013.06800379197,
          155034.7153217225,
          157681.18906732235,
          145972.02814142115
         ],
         "yaxis": "y"
        },
        {
         "hovertemplate": "variable=Turkey<br>year=%{x}<br>value=%{y}<extra></extra>",
         "legendgroup": "Turkey",
         "line": {
          "color": "#FECB52",
          "dash": "solid"
         },
         "marker": {
          "symbol": "circle"
         },
         "mode": "lines",
         "name": "Turkey",
         "showlegend": true,
         "type": "scattergl",
         "x": [
          1990,
          1991,
          1992,
          1993,
          1994,
          1995,
          1996,
          1997,
          1998,
          1999,
          2000,
          2001,
          2002,
          2003,
          2004,
          2005,
          2006,
          2007,
          2008,
          2009,
          2010,
          2011,
          2012,
          2013,
          2014
         ],
         "xaxis": "x",
         "y": [
          623319.9634286013,
          642384.966493032,
          662391.4329469592,
          691886.9976402749,
          674157.7057131635,
          717119.3753926442,
          769971.2412490234,
          809827.5088763825,
          815267.7975953696,
          814073.8653010203,
          890432.5050527736,
          836354.8368152034,
          861283.7037627087,
          911083.2747709015,
          950681.115666648,
          1035695.38464222,
          1113961.6594934545,
          1210177.4580713403,
          1179302.7230573543,
          1147540.2567459359,
          1185847.5305843996,
          1247606.4424982762,
          1342356.993968628,
          1316458.7519942608,
          1402651.1308156685
         ],
         "yaxis": "y"
        },
        {
         "hovertemplate": "variable=Ukraine<br>year=%{x}<br>value=%{y}<extra></extra>",
         "legendgroup": "Ukraine",
         "line": {
          "color": "#636efa",
          "dash": "solid"
         },
         "marker": {
          "symbol": "circle"
         },
         "mode": "lines",
         "name": "Ukraine",
         "showlegend": true,
         "type": "scattergl",
         "x": [
          1990,
          1991,
          1992,
          1993,
          1994,
          1995,
          1996,
          1997,
          1998,
          1999,
          2000,
          2001,
          2002,
          2003,
          2004,
          2005,
          2006,
          2007,
          2008,
          2009,
          2010,
          2011,
          2012,
          2013,
          2014
         ],
         "xaxis": "x",
         "y": [
          2813862.6113043814,
          2559623.256827778,
          2386340.8818428083,
          2116129.7278649965,
          1801019.9316828635,
          1671143.8089527881,
          1535059.8879733942,
          1488659.935310379,
          1393200.0924869946,
          1311112.661602425,
          1241770.3264774836,
          1301497.6378799637,
          1252508.059545051,
          1252668.3256372744,
          1283737.270823088,
          1306981.9851002644,
          1356269.2882750228,
          1365802.3337250808,
          1326517.125460533,
          1153955.3635471435,
          1205787.2800353172,
          1264907.9786238354,
          1228594.0580433717,
          1203200.8966495437,
          1063042.610073537
         ],
         "yaxis": "y"
        },
        {
         "hovertemplate": "variable=United Kingdom<br>year=%{x}<br>value=%{y}<extra></extra>",
         "legendgroup": "United Kingdom",
         "line": {
          "color": "#EF553B",
          "dash": "solid"
         },
         "marker": {
          "symbol": "circle"
         },
         "mode": "lines",
         "name": "United Kingdom",
         "showlegend": true,
         "type": "scattergl",
         "x": [
          1990,
          1991,
          1992,
          1993,
          1994,
          1995,
          1996,
          1997,
          1998,
          1999,
          2000,
          2001,
          2002,
          2003,
          2004,
          2005,
          2006,
          2007,
          2008,
          2009,
          2010,
          2011,
          2012,
          2013,
          2014
         ],
         "xaxis": "x",
         "y": [
          1600214.9771122388,
          1619013.5814948399,
          1578210.518944216,
          1538513.5608160803,
          1516636.9419693085,
          1504927.836457002,
          1548451.568638627,
          1499037.59376093,
          1493924.044238142,
          1432598.8205380258,
          1435157.5858701894,
          1442052.7452637341,
          1402009.3807939796,
          1416170.0604577663,
          1408180.2034223475,
          1392083.2787103755,
          1380641.9866265755,
          1356023.2462998584,
          1315961.7360043116,
          1199113.5319385135,
          1228333.4811395782,
          1131978.0308587858,
          1165893.1853208626,
          1140157.0666131282,
          1055001.5025740103
         ],
         "yaxis": "y"
        },
        {
         "hovertemplate": "variable=United States of America<br>year=%{x}<br>value=%{y}<extra></extra>",
         "legendgroup": "United States of America",
         "line": {
          "color": "#00cc96",
          "dash": "solid"
         },
         "marker": {
          "symbol": "circle"
         },
         "mode": "lines",
         "name": "United States of America",
         "showlegend": true,
         "type": "scattergl",
         "x": [
          1990,
          1991,
          1992,
          1993,
          1994,
          1995,
          1996,
          1997,
          1998,
          1999,
          2000,
          2001,
          2002,
          2003,
          2004,
          2005,
          2006,
          2007,
          2008,
          2009,
          2010,
          2011,
          2012,
          2013,
          2014
         ],
         "xaxis": "x",
         "y": [
          19191433.46900674,
          18992813.656517703,
          19346031.462076616,
          19699247.56917312,
          19950889.78531222,
          20245586.776678443,
          20849514.012460407,
          20999997.30125805,
          21200364.488428373,
          21271327.834450766,
          21776919.35101662,
          21422697.42402591,
          21555984.414590515,
          21674922.097803812,
          22109910.103709552,
          22136326.492611866,
          21948433.36778289,
          22266623.88885417,
          21649245.212707438,
          20328689.321631175,
          20956371.160281774,
          20596193.708998445,
          19929031.73361957,
          20399937.908404075,
          20611338.274613585
         ],
         "yaxis": "y"
        }
       ],
       "layout": {
        "legend": {
         "title": {
          "text": "variable"
         },
         "tracegroupgap": 0
        },
        "template": {
         "data": {
          "bar": [
           {
            "error_x": {
             "color": "#2a3f5f"
            },
            "error_y": {
             "color": "#2a3f5f"
            },
            "marker": {
             "line": {
              "color": "#E5ECF6",
              "width": 0.5
             },
             "pattern": {
              "fillmode": "overlay",
              "size": 10,
              "solidity": 0.2
             }
            },
            "type": "bar"
           }
          ],
          "barpolar": [
           {
            "marker": {
             "line": {
              "color": "#E5ECF6",
              "width": 0.5
             },
             "pattern": {
              "fillmode": "overlay",
              "size": 10,
              "solidity": 0.2
             }
            },
            "type": "barpolar"
           }
          ],
          "carpet": [
           {
            "aaxis": {
             "endlinecolor": "#2a3f5f",
             "gridcolor": "white",
             "linecolor": "white",
             "minorgridcolor": "white",
             "startlinecolor": "#2a3f5f"
            },
            "baxis": {
             "endlinecolor": "#2a3f5f",
             "gridcolor": "white",
             "linecolor": "white",
             "minorgridcolor": "white",
             "startlinecolor": "#2a3f5f"
            },
            "type": "carpet"
           }
          ],
          "choropleth": [
           {
            "colorbar": {
             "outlinewidth": 0,
             "ticks": ""
            },
            "type": "choropleth"
           }
          ],
          "contour": [
           {
            "colorbar": {
             "outlinewidth": 0,
             "ticks": ""
            },
            "colorscale": [
             [
              0,
              "#0d0887"
             ],
             [
              0.1111111111111111,
              "#46039f"
             ],
             [
              0.2222222222222222,
              "#7201a8"
             ],
             [
              0.3333333333333333,
              "#9c179e"
             ],
             [
              0.4444444444444444,
              "#bd3786"
             ],
             [
              0.5555555555555556,
              "#d8576b"
             ],
             [
              0.6666666666666666,
              "#ed7953"
             ],
             [
              0.7777777777777778,
              "#fb9f3a"
             ],
             [
              0.8888888888888888,
              "#fdca26"
             ],
             [
              1,
              "#f0f921"
             ]
            ],
            "type": "contour"
           }
          ],
          "contourcarpet": [
           {
            "colorbar": {
             "outlinewidth": 0,
             "ticks": ""
            },
            "type": "contourcarpet"
           }
          ],
          "heatmap": [
           {
            "colorbar": {
             "outlinewidth": 0,
             "ticks": ""
            },
            "colorscale": [
             [
              0,
              "#0d0887"
             ],
             [
              0.1111111111111111,
              "#46039f"
             ],
             [
              0.2222222222222222,
              "#7201a8"
             ],
             [
              0.3333333333333333,
              "#9c179e"
             ],
             [
              0.4444444444444444,
              "#bd3786"
             ],
             [
              0.5555555555555556,
              "#d8576b"
             ],
             [
              0.6666666666666666,
              "#ed7953"
             ],
             [
              0.7777777777777778,
              "#fb9f3a"
             ],
             [
              0.8888888888888888,
              "#fdca26"
             ],
             [
              1,
              "#f0f921"
             ]
            ],
            "type": "heatmap"
           }
          ],
          "heatmapgl": [
           {
            "colorbar": {
             "outlinewidth": 0,
             "ticks": ""
            },
            "colorscale": [
             [
              0,
              "#0d0887"
             ],
             [
              0.1111111111111111,
              "#46039f"
             ],
             [
              0.2222222222222222,
              "#7201a8"
             ],
             [
              0.3333333333333333,
              "#9c179e"
             ],
             [
              0.4444444444444444,
              "#bd3786"
             ],
             [
              0.5555555555555556,
              "#d8576b"
             ],
             [
              0.6666666666666666,
              "#ed7953"
             ],
             [
              0.7777777777777778,
              "#fb9f3a"
             ],
             [
              0.8888888888888888,
              "#fdca26"
             ],
             [
              1,
              "#f0f921"
             ]
            ],
            "type": "heatmapgl"
           }
          ],
          "histogram": [
           {
            "marker": {
             "pattern": {
              "fillmode": "overlay",
              "size": 10,
              "solidity": 0.2
             }
            },
            "type": "histogram"
           }
          ],
          "histogram2d": [
           {
            "colorbar": {
             "outlinewidth": 0,
             "ticks": ""
            },
            "colorscale": [
             [
              0,
              "#0d0887"
             ],
             [
              0.1111111111111111,
              "#46039f"
             ],
             [
              0.2222222222222222,
              "#7201a8"
             ],
             [
              0.3333333333333333,
              "#9c179e"
             ],
             [
              0.4444444444444444,
              "#bd3786"
             ],
             [
              0.5555555555555556,
              "#d8576b"
             ],
             [
              0.6666666666666666,
              "#ed7953"
             ],
             [
              0.7777777777777778,
              "#fb9f3a"
             ],
             [
              0.8888888888888888,
              "#fdca26"
             ],
             [
              1,
              "#f0f921"
             ]
            ],
            "type": "histogram2d"
           }
          ],
          "histogram2dcontour": [
           {
            "colorbar": {
             "outlinewidth": 0,
             "ticks": ""
            },
            "colorscale": [
             [
              0,
              "#0d0887"
             ],
             [
              0.1111111111111111,
              "#46039f"
             ],
             [
              0.2222222222222222,
              "#7201a8"
             ],
             [
              0.3333333333333333,
              "#9c179e"
             ],
             [
              0.4444444444444444,
              "#bd3786"
             ],
             [
              0.5555555555555556,
              "#d8576b"
             ],
             [
              0.6666666666666666,
              "#ed7953"
             ],
             [
              0.7777777777777778,
              "#fb9f3a"
             ],
             [
              0.8888888888888888,
              "#fdca26"
             ],
             [
              1,
              "#f0f921"
             ]
            ],
            "type": "histogram2dcontour"
           }
          ],
          "mesh3d": [
           {
            "colorbar": {
             "outlinewidth": 0,
             "ticks": ""
            },
            "type": "mesh3d"
           }
          ],
          "parcoords": [
           {
            "line": {
             "colorbar": {
              "outlinewidth": 0,
              "ticks": ""
             }
            },
            "type": "parcoords"
           }
          ],
          "pie": [
           {
            "automargin": true,
            "type": "pie"
           }
          ],
          "scatter": [
           {
            "marker": {
             "colorbar": {
              "outlinewidth": 0,
              "ticks": ""
             }
            },
            "type": "scatter"
           }
          ],
          "scatter3d": [
           {
            "line": {
             "colorbar": {
              "outlinewidth": 0,
              "ticks": ""
             }
            },
            "marker": {
             "colorbar": {
              "outlinewidth": 0,
              "ticks": ""
             }
            },
            "type": "scatter3d"
           }
          ],
          "scattercarpet": [
           {
            "marker": {
             "colorbar": {
              "outlinewidth": 0,
              "ticks": ""
             }
            },
            "type": "scattercarpet"
           }
          ],
          "scattergeo": [
           {
            "marker": {
             "colorbar": {
              "outlinewidth": 0,
              "ticks": ""
             }
            },
            "type": "scattergeo"
           }
          ],
          "scattergl": [
           {
            "marker": {
             "colorbar": {
              "outlinewidth": 0,
              "ticks": ""
             }
            },
            "type": "scattergl"
           }
          ],
          "scattermapbox": [
           {
            "marker": {
             "colorbar": {
              "outlinewidth": 0,
              "ticks": ""
             }
            },
            "type": "scattermapbox"
           }
          ],
          "scatterpolar": [
           {
            "marker": {
             "colorbar": {
              "outlinewidth": 0,
              "ticks": ""
             }
            },
            "type": "scatterpolar"
           }
          ],
          "scatterpolargl": [
           {
            "marker": {
             "colorbar": {
              "outlinewidth": 0,
              "ticks": ""
             }
            },
            "type": "scatterpolargl"
           }
          ],
          "scatterternary": [
           {
            "marker": {
             "colorbar": {
              "outlinewidth": 0,
              "ticks": ""
             }
            },
            "type": "scatterternary"
           }
          ],
          "surface": [
           {
            "colorbar": {
             "outlinewidth": 0,
             "ticks": ""
            },
            "colorscale": [
             [
              0,
              "#0d0887"
             ],
             [
              0.1111111111111111,
              "#46039f"
             ],
             [
              0.2222222222222222,
              "#7201a8"
             ],
             [
              0.3333333333333333,
              "#9c179e"
             ],
             [
              0.4444444444444444,
              "#bd3786"
             ],
             [
              0.5555555555555556,
              "#d8576b"
             ],
             [
              0.6666666666666666,
              "#ed7953"
             ],
             [
              0.7777777777777778,
              "#fb9f3a"
             ],
             [
              0.8888888888888888,
              "#fdca26"
             ],
             [
              1,
              "#f0f921"
             ]
            ],
            "type": "surface"
           }
          ],
          "table": [
           {
            "cells": {
             "fill": {
              "color": "#EBF0F8"
             },
             "line": {
              "color": "white"
             }
            },
            "header": {
             "fill": {
              "color": "#C8D4E3"
             },
             "line": {
              "color": "white"
             }
            },
            "type": "table"
           }
          ]
         },
         "layout": {
          "annotationdefaults": {
           "arrowcolor": "#2a3f5f",
           "arrowhead": 0,
           "arrowwidth": 1
          },
          "autotypenumbers": "strict",
          "coloraxis": {
           "colorbar": {
            "outlinewidth": 0,
            "ticks": ""
           }
          },
          "colorscale": {
           "diverging": [
            [
             0,
             "#8e0152"
            ],
            [
             0.1,
             "#c51b7d"
            ],
            [
             0.2,
             "#de77ae"
            ],
            [
             0.3,
             "#f1b6da"
            ],
            [
             0.4,
             "#fde0ef"
            ],
            [
             0.5,
             "#f7f7f7"
            ],
            [
             0.6,
             "#e6f5d0"
            ],
            [
             0.7,
             "#b8e186"
            ],
            [
             0.8,
             "#7fbc41"
            ],
            [
             0.9,
             "#4d9221"
            ],
            [
             1,
             "#276419"
            ]
           ],
           "sequential": [
            [
             0,
             "#0d0887"
            ],
            [
             0.1111111111111111,
             "#46039f"
            ],
            [
             0.2222222222222222,
             "#7201a8"
            ],
            [
             0.3333333333333333,
             "#9c179e"
            ],
            [
             0.4444444444444444,
             "#bd3786"
            ],
            [
             0.5555555555555556,
             "#d8576b"
            ],
            [
             0.6666666666666666,
             "#ed7953"
            ],
            [
             0.7777777777777778,
             "#fb9f3a"
            ],
            [
             0.8888888888888888,
             "#fdca26"
            ],
            [
             1,
             "#f0f921"
            ]
           ],
           "sequentialminus": [
            [
             0,
             "#0d0887"
            ],
            [
             0.1111111111111111,
             "#46039f"
            ],
            [
             0.2222222222222222,
             "#7201a8"
            ],
            [
             0.3333333333333333,
             "#9c179e"
            ],
            [
             0.4444444444444444,
             "#bd3786"
            ],
            [
             0.5555555555555556,
             "#d8576b"
            ],
            [
             0.6666666666666666,
             "#ed7953"
            ],
            [
             0.7777777777777778,
             "#fb9f3a"
            ],
            [
             0.8888888888888888,
             "#fdca26"
            ],
            [
             1,
             "#f0f921"
            ]
           ]
          },
          "colorway": [
           "#636efa",
           "#EF553B",
           "#00cc96",
           "#ab63fa",
           "#FFA15A",
           "#19d3f3",
           "#FF6692",
           "#B6E880",
           "#FF97FF",
           "#FECB52"
          ],
          "font": {
           "color": "#2a3f5f"
          },
          "geo": {
           "bgcolor": "white",
           "lakecolor": "white",
           "landcolor": "#E5ECF6",
           "showlakes": true,
           "showland": true,
           "subunitcolor": "white"
          },
          "hoverlabel": {
           "align": "left"
          },
          "hovermode": "closest",
          "mapbox": {
           "style": "light"
          },
          "paper_bgcolor": "white",
          "plot_bgcolor": "#E5ECF6",
          "polar": {
           "angularaxis": {
            "gridcolor": "white",
            "linecolor": "white",
            "ticks": ""
           },
           "bgcolor": "#E5ECF6",
           "radialaxis": {
            "gridcolor": "white",
            "linecolor": "white",
            "ticks": ""
           }
          },
          "scene": {
           "xaxis": {
            "backgroundcolor": "#E5ECF6",
            "gridcolor": "white",
            "gridwidth": 2,
            "linecolor": "white",
            "showbackground": true,
            "ticks": "",
            "zerolinecolor": "white"
           },
           "yaxis": {
            "backgroundcolor": "#E5ECF6",
            "gridcolor": "white",
            "gridwidth": 2,
            "linecolor": "white",
            "showbackground": true,
            "ticks": "",
            "zerolinecolor": "white"
           },
           "zaxis": {
            "backgroundcolor": "#E5ECF6",
            "gridcolor": "white",
            "gridwidth": 2,
            "linecolor": "white",
            "showbackground": true,
            "ticks": "",
            "zerolinecolor": "white"
           }
          },
          "shapedefaults": {
           "line": {
            "color": "#2a3f5f"
           }
          },
          "ternary": {
           "aaxis": {
            "gridcolor": "white",
            "linecolor": "white",
            "ticks": ""
           },
           "baxis": {
            "gridcolor": "white",
            "linecolor": "white",
            "ticks": ""
           },
           "bgcolor": "#E5ECF6",
           "caxis": {
            "gridcolor": "white",
            "linecolor": "white",
            "ticks": ""
           }
          },
          "title": {
           "x": 0.05
          },
          "xaxis": {
           "automargin": true,
           "gridcolor": "white",
           "linecolor": "white",
           "ticks": "",
           "title": {
            "standoff": 15
           },
           "zerolinecolor": "white",
           "zerolinewidth": 2
          },
          "yaxis": {
           "automargin": true,
           "gridcolor": "white",
           "linecolor": "white",
           "ticks": "",
           "title": {
            "standoff": 15
           },
           "zerolinecolor": "white",
           "zerolinewidth": 2
          }
         }
        },
        "title": {
         "text": "CO2 Emission by Country"
        },
        "xaxis": {
         "anchor": "y",
         "domain": [
          0,
          1
         ],
         "title": {
          "text": "year"
         }
        },
        "yaxis": {
         "anchor": "x",
         "domain": [
          0,
          1
         ],
         "title": {
          "text": "value"
         }
        }
       }
      }
     },
     "metadata": {},
     "output_type": "display_data"
    }
   ],
   "source": [
    "fig = px.line(df_grouped_by_country_or_area, \n",
    "              x='year', \n",
    "              y=df_grouped_by_country_or_area.columns[1:],\n",
    "              title=\"CO2 Emission by Country\")\n",
    "fig.show()"
   ]
  },
  {
   "cell_type": "code",
   "execution_count": null,
   "metadata": {},
   "outputs": [],
   "source": []
  }
 ],
 "metadata": {
  "interpreter": {
   "hash": "726979e5d38d479fc5c3dde43f906ad8b4c4e369987342629052bcf0a3e529ac"
  },
  "kernelspec": {
   "display_name": "Python 3.8.10 64-bit ('base': conda)",
   "name": "python3"
  },
  "language_info": {
   "codemirror_mode": {
    "name": "ipython",
    "version": 3
   },
   "file_extension": ".py",
   "mimetype": "text/x-python",
   "name": "python",
   "nbconvert_exporter": "python",
   "pygments_lexer": "ipython3",
   "version": "3.8.10"
  }
 },
 "nbformat": 4,
 "nbformat_minor": 2
}
